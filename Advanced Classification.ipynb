{
 "cells": [
  {
   "cell_type": "markdown",
   "metadata": {},
   "source": [
    "# Advanced Classification"
   ]
  },
  {
   "cell_type": "markdown",
   "metadata": {},
   "source": [
    "In this notebook, we will cover:\n",
    "\n",
    "* Decision Tree Classifier\n",
    "* Random Forest Classifier\n",
    "* AdaBoost\n",
    "* Hyperparameter Tuning by GridSearchCV\n",
    "* Tuning by Randomize Search\n",
    "* Voting Classifier"
   ]
  },
  {
   "cell_type": "markdown",
   "metadata": {},
   "source": [
    "Importing all necessary packages"
   ]
  },
  {
   "cell_type": "code",
   "execution_count": 1,
   "metadata": {},
   "outputs": [
    {
     "name": "stdout",
     "output_type": "stream",
     "text": [
      "Requirement already satisfied: pydotplus in c:\\users\\user\\anaconda3\\lib\\site-packages (2.0.2)\n",
      "Requirement already satisfied: pyparsing>=2.0.1 in c:\\users\\user\\anaconda3\\lib\\site-packages (from pydotplus) (2.4.7)\n"
     ]
    }
   ],
   "source": [
    "!pip install pydotplus"
   ]
  },
  {
   "cell_type": "code",
   "execution_count": 2,
   "metadata": {},
   "outputs": [],
   "source": [
    "import numpy as np\n",
    "import pandas as pd\n",
    "import matplotlib.pyplot as plt\n",
    "import seaborn as sns\n",
    "sns.set()\n",
    "%matplotlib inline"
   ]
  },
  {
   "cell_type": "markdown",
   "metadata": {},
   "source": [
    "### Task 1: Load Data 'titanic_clean.csv'"
   ]
  },
  {
   "cell_type": "code",
   "execution_count": 3,
   "metadata": {
    "scrolled": true
   },
   "outputs": [
    {
     "data": {
      "text/html": [
       "<div>\n",
       "<style scoped>\n",
       "    .dataframe tbody tr th:only-of-type {\n",
       "        vertical-align: middle;\n",
       "    }\n",
       "\n",
       "    .dataframe tbody tr th {\n",
       "        vertical-align: top;\n",
       "    }\n",
       "\n",
       "    .dataframe thead th {\n",
       "        text-align: right;\n",
       "    }\n",
       "</style>\n",
       "<table border=\"1\" class=\"dataframe\">\n",
       "  <thead>\n",
       "    <tr style=\"text-align: right;\">\n",
       "      <th></th>\n",
       "      <th>PassengerId</th>\n",
       "      <th>Survived</th>\n",
       "      <th>Pclass</th>\n",
       "      <th>Sex</th>\n",
       "      <th>SibSp</th>\n",
       "      <th>Parch</th>\n",
       "      <th>Embarked</th>\n",
       "      <th>Title</th>\n",
       "      <th>GrpSize</th>\n",
       "      <th>FareCat</th>\n",
       "      <th>AgeCat</th>\n",
       "    </tr>\n",
       "  </thead>\n",
       "  <tbody>\n",
       "    <tr>\n",
       "      <th>0</th>\n",
       "      <td>1</td>\n",
       "      <td>0</td>\n",
       "      <td>3</td>\n",
       "      <td>male</td>\n",
       "      <td>1</td>\n",
       "      <td>0</td>\n",
       "      <td>S</td>\n",
       "      <td>Mr</td>\n",
       "      <td>couple</td>\n",
       "      <td>0-10</td>\n",
       "      <td>16-32</td>\n",
       "    </tr>\n",
       "    <tr>\n",
       "      <th>1</th>\n",
       "      <td>2</td>\n",
       "      <td>1</td>\n",
       "      <td>1</td>\n",
       "      <td>female</td>\n",
       "      <td>1</td>\n",
       "      <td>0</td>\n",
       "      <td>C</td>\n",
       "      <td>Mrs</td>\n",
       "      <td>couple</td>\n",
       "      <td>70-100</td>\n",
       "      <td>32-48</td>\n",
       "    </tr>\n",
       "    <tr>\n",
       "      <th>2</th>\n",
       "      <td>3</td>\n",
       "      <td>1</td>\n",
       "      <td>3</td>\n",
       "      <td>female</td>\n",
       "      <td>0</td>\n",
       "      <td>0</td>\n",
       "      <td>S</td>\n",
       "      <td>Miss</td>\n",
       "      <td>solo</td>\n",
       "      <td>0-10</td>\n",
       "      <td>16-32</td>\n",
       "    </tr>\n",
       "    <tr>\n",
       "      <th>3</th>\n",
       "      <td>4</td>\n",
       "      <td>1</td>\n",
       "      <td>1</td>\n",
       "      <td>female</td>\n",
       "      <td>1</td>\n",
       "      <td>0</td>\n",
       "      <td>S</td>\n",
       "      <td>Mrs</td>\n",
       "      <td>couple</td>\n",
       "      <td>40-70</td>\n",
       "      <td>32-48</td>\n",
       "    </tr>\n",
       "    <tr>\n",
       "      <th>4</th>\n",
       "      <td>138</td>\n",
       "      <td>0</td>\n",
       "      <td>1</td>\n",
       "      <td>male</td>\n",
       "      <td>1</td>\n",
       "      <td>0</td>\n",
       "      <td>S</td>\n",
       "      <td>Mr</td>\n",
       "      <td>couple</td>\n",
       "      <td>40-70</td>\n",
       "      <td>32-48</td>\n",
       "    </tr>\n",
       "  </tbody>\n",
       "</table>\n",
       "</div>"
      ],
      "text/plain": [
       "   PassengerId  Survived  Pclass     Sex  SibSp  Parch Embarked Title GrpSize  \\\n",
       "0            1         0       3    male      1      0        S    Mr  couple   \n",
       "1            2         1       1  female      1      0        C   Mrs  couple   \n",
       "2            3         1       3  female      0      0        S  Miss    solo   \n",
       "3            4         1       1  female      1      0        S   Mrs  couple   \n",
       "4          138         0       1    male      1      0        S    Mr  couple   \n",
       "\n",
       "  FareCat AgeCat  \n",
       "0    0-10  16-32  \n",
       "1  70-100  32-48  \n",
       "2    0-10  16-32  \n",
       "3   40-70  32-48  \n",
       "4   40-70  32-48  "
      ]
     },
     "execution_count": 3,
     "metadata": {},
     "output_type": "execute_result"
    }
   ],
   "source": [
    "# write code here\n",
    "data = pd.read_csv('titanic_clean.csv')\n",
    "df = data.copy()\n",
    "df.head()"
   ]
  },
  {
   "cell_type": "markdown",
   "metadata": {},
   "source": [
    "### Task 2: Do One Hot encoding for categorical varaibles and store in df"
   ]
  },
  {
   "cell_type": "code",
   "execution_count": 4,
   "metadata": {},
   "outputs": [
    {
     "data": {
      "text/html": [
       "<div>\n",
       "<style scoped>\n",
       "    .dataframe tbody tr th:only-of-type {\n",
       "        vertical-align: middle;\n",
       "    }\n",
       "\n",
       "    .dataframe tbody tr th {\n",
       "        vertical-align: top;\n",
       "    }\n",
       "\n",
       "    .dataframe thead th {\n",
       "        text-align: right;\n",
       "    }\n",
       "</style>\n",
       "<table border=\"1\" class=\"dataframe\">\n",
       "  <thead>\n",
       "    <tr style=\"text-align: right;\">\n",
       "      <th></th>\n",
       "      <th>PassengerId</th>\n",
       "      <th>Survived</th>\n",
       "      <th>SibSp</th>\n",
       "      <th>Parch</th>\n",
       "      <th>Pclass_1</th>\n",
       "      <th>Pclass_2</th>\n",
       "      <th>Pclass_3</th>\n",
       "      <th>Sex_female</th>\n",
       "      <th>Sex_male</th>\n",
       "      <th>Embarked_C</th>\n",
       "      <th>...</th>\n",
       "      <th>FareCat_100+</th>\n",
       "      <th>FareCat_25-40</th>\n",
       "      <th>FareCat_40-70</th>\n",
       "      <th>FareCat_70-100</th>\n",
       "      <th>FareCat_Oct-25</th>\n",
       "      <th>AgeCat_0-16</th>\n",
       "      <th>AgeCat_16-32</th>\n",
       "      <th>AgeCat_32-48</th>\n",
       "      <th>AgeCat_48-64</th>\n",
       "      <th>AgeCat_64+</th>\n",
       "    </tr>\n",
       "  </thead>\n",
       "  <tbody>\n",
       "    <tr>\n",
       "      <th>0</th>\n",
       "      <td>1</td>\n",
       "      <td>0</td>\n",
       "      <td>1</td>\n",
       "      <td>0</td>\n",
       "      <td>0</td>\n",
       "      <td>0</td>\n",
       "      <td>1</td>\n",
       "      <td>0</td>\n",
       "      <td>1</td>\n",
       "      <td>0</td>\n",
       "      <td>...</td>\n",
       "      <td>0</td>\n",
       "      <td>0</td>\n",
       "      <td>0</td>\n",
       "      <td>0</td>\n",
       "      <td>0</td>\n",
       "      <td>0</td>\n",
       "      <td>1</td>\n",
       "      <td>0</td>\n",
       "      <td>0</td>\n",
       "      <td>0</td>\n",
       "    </tr>\n",
       "    <tr>\n",
       "      <th>1</th>\n",
       "      <td>2</td>\n",
       "      <td>1</td>\n",
       "      <td>1</td>\n",
       "      <td>0</td>\n",
       "      <td>1</td>\n",
       "      <td>0</td>\n",
       "      <td>0</td>\n",
       "      <td>1</td>\n",
       "      <td>0</td>\n",
       "      <td>1</td>\n",
       "      <td>...</td>\n",
       "      <td>0</td>\n",
       "      <td>0</td>\n",
       "      <td>0</td>\n",
       "      <td>1</td>\n",
       "      <td>0</td>\n",
       "      <td>0</td>\n",
       "      <td>0</td>\n",
       "      <td>1</td>\n",
       "      <td>0</td>\n",
       "      <td>0</td>\n",
       "    </tr>\n",
       "    <tr>\n",
       "      <th>2</th>\n",
       "      <td>3</td>\n",
       "      <td>1</td>\n",
       "      <td>0</td>\n",
       "      <td>0</td>\n",
       "      <td>0</td>\n",
       "      <td>0</td>\n",
       "      <td>1</td>\n",
       "      <td>1</td>\n",
       "      <td>0</td>\n",
       "      <td>0</td>\n",
       "      <td>...</td>\n",
       "      <td>0</td>\n",
       "      <td>0</td>\n",
       "      <td>0</td>\n",
       "      <td>0</td>\n",
       "      <td>0</td>\n",
       "      <td>0</td>\n",
       "      <td>1</td>\n",
       "      <td>0</td>\n",
       "      <td>0</td>\n",
       "      <td>0</td>\n",
       "    </tr>\n",
       "    <tr>\n",
       "      <th>3</th>\n",
       "      <td>4</td>\n",
       "      <td>1</td>\n",
       "      <td>1</td>\n",
       "      <td>0</td>\n",
       "      <td>1</td>\n",
       "      <td>0</td>\n",
       "      <td>0</td>\n",
       "      <td>1</td>\n",
       "      <td>0</td>\n",
       "      <td>0</td>\n",
       "      <td>...</td>\n",
       "      <td>0</td>\n",
       "      <td>0</td>\n",
       "      <td>1</td>\n",
       "      <td>0</td>\n",
       "      <td>0</td>\n",
       "      <td>0</td>\n",
       "      <td>0</td>\n",
       "      <td>1</td>\n",
       "      <td>0</td>\n",
       "      <td>0</td>\n",
       "    </tr>\n",
       "    <tr>\n",
       "      <th>4</th>\n",
       "      <td>138</td>\n",
       "      <td>0</td>\n",
       "      <td>1</td>\n",
       "      <td>0</td>\n",
       "      <td>1</td>\n",
       "      <td>0</td>\n",
       "      <td>0</td>\n",
       "      <td>0</td>\n",
       "      <td>1</td>\n",
       "      <td>0</td>\n",
       "      <td>...</td>\n",
       "      <td>0</td>\n",
       "      <td>0</td>\n",
       "      <td>1</td>\n",
       "      <td>0</td>\n",
       "      <td>0</td>\n",
       "      <td>0</td>\n",
       "      <td>0</td>\n",
       "      <td>1</td>\n",
       "      <td>0</td>\n",
       "      <td>0</td>\n",
       "    </tr>\n",
       "  </tbody>\n",
       "</table>\n",
       "<p>5 rows × 32 columns</p>\n",
       "</div>"
      ],
      "text/plain": [
       "   PassengerId  Survived  SibSp  Parch  Pclass_1  Pclass_2  Pclass_3  \\\n",
       "0            1         0      1      0         0         0         1   \n",
       "1            2         1      1      0         1         0         0   \n",
       "2            3         1      0      0         0         0         1   \n",
       "3            4         1      1      0         1         0         0   \n",
       "4          138         0      1      0         1         0         0   \n",
       "\n",
       "   Sex_female  Sex_male  Embarked_C  ...  FareCat_100+  FareCat_25-40  \\\n",
       "0           0         1           0  ...             0              0   \n",
       "1           1         0           1  ...             0              0   \n",
       "2           1         0           0  ...             0              0   \n",
       "3           1         0           0  ...             0              0   \n",
       "4           0         1           0  ...             0              0   \n",
       "\n",
       "   FareCat_40-70  FareCat_70-100  FareCat_Oct-25  AgeCat_0-16  AgeCat_16-32  \\\n",
       "0              0               0               0            0             1   \n",
       "1              0               1               0            0             0   \n",
       "2              0               0               0            0             1   \n",
       "3              1               0               0            0             0   \n",
       "4              1               0               0            0             0   \n",
       "\n",
       "   AgeCat_32-48  AgeCat_48-64  AgeCat_64+  \n",
       "0             0             0           0  \n",
       "1             1             0           0  \n",
       "2             0             0           0  \n",
       "3             1             0           0  \n",
       "4             1             0           0  \n",
       "\n",
       "[5 rows x 32 columns]"
      ]
     },
     "execution_count": 4,
     "metadata": {},
     "output_type": "execute_result"
    }
   ],
   "source": [
    "# write code here\n",
    "df_OneHot = pd.get_dummies(df, columns=['Pclass', 'Sex', 'Embarked', 'Title', 'GrpSize','FareCat', 'AgeCat'])\n",
    "df_OneHot.head()"
   ]
  },
  {
   "cell_type": "code",
   "execution_count": 5,
   "metadata": {},
   "outputs": [],
   "source": [
    "# Write code here to copy into df\n",
    "df = df_OneHot.copy()"
   ]
  },
  {
   "cell_type": "markdown",
   "metadata": {},
   "source": [
    "### Task 3: Create dependent and independent varaibles"
   ]
  },
  {
   "cell_type": "code",
   "execution_count": 6,
   "metadata": {},
   "outputs": [],
   "source": [
    "# write code here\n",
    "X = df.drop(['PassengerId', 'Survived'], axis=1)\n",
    "Y = df['Survived']"
   ]
  },
  {
   "cell_type": "markdown",
   "metadata": {},
   "source": [
    "### Task 4: Split the data into training and testing set and set the random state to 100"
   ]
  },
  {
   "cell_type": "code",
   "execution_count": 7,
   "metadata": {},
   "outputs": [],
   "source": [
    "from sklearn.model_selection import train_test_split"
   ]
  },
  {
   "cell_type": "code",
   "execution_count": 8,
   "metadata": {},
   "outputs": [
    {
     "name": "stdout",
     "output_type": "stream",
     "text": [
      "(623, 30) (623,)\n",
      "(268, 30) (268,)\n"
     ]
    }
   ],
   "source": [
    "# Write code here\n",
    "xtrain, xtest, ytrain, ytest= train_test_split(X, Y, test_size=0.3, random_state=100)\n",
    "print(xtrain.shape, ytrain.shape)\n",
    "print(xtest.shape, ytest.shape)"
   ]
  },
  {
   "cell_type": "markdown",
   "metadata": {},
   "source": [
    "## Defining Decision Tree classifier"
   ]
  },
  {
   "cell_type": "code",
   "execution_count": 9,
   "metadata": {},
   "outputs": [],
   "source": [
    "from sklearn.tree import DecisionTreeClassifier"
   ]
  },
  {
   "cell_type": "code",
   "execution_count": 10,
   "metadata": {},
   "outputs": [],
   "source": [
    "clf_dt = DecisionTreeClassifier(\n",
    "    max_depth=3, criterion='gini', random_state=100)"
   ]
  },
  {
   "cell_type": "code",
   "execution_count": 11,
   "metadata": {},
   "outputs": [
    {
     "data": {
      "text/plain": [
       "DecisionTreeClassifier(max_depth=3, random_state=100)"
      ]
     },
     "execution_count": 11,
     "metadata": {},
     "output_type": "execute_result"
    }
   ],
   "source": [
    "clf_dt.fit(xtrain, ytrain)"
   ]
  },
  {
   "cell_type": "code",
   "execution_count": 12,
   "metadata": {},
   "outputs": [],
   "source": [
    "dt_pred = clf_dt.predict(xtest)\n",
    "dt_pred_prb = clf_dt.predict_proba(xtest)[:, 1]"
   ]
  },
  {
   "cell_type": "markdown",
   "metadata": {},
   "source": [
    "### Task 5: Find accuracy for Decision Tree"
   ]
  },
  {
   "cell_type": "code",
   "execution_count": 13,
   "metadata": {},
   "outputs": [],
   "source": [
    "from sklearn.metrics import accuracy_score"
   ]
  },
  {
   "cell_type": "code",
   "execution_count": 14,
   "metadata": {},
   "outputs": [
    {
     "name": "stdout",
     "output_type": "stream",
     "text": [
      "Accuracy: 0.8507462686567164\n"
     ]
    }
   ],
   "source": [
    "# write code here\n",
    "accuracy_dt = accuracy_score(ytest, dt_pred)\n",
    "print(\"Accuracy: {}\".format(accuracy_dt))"
   ]
  },
  {
   "cell_type": "markdown",
   "metadata": {},
   "source": [
    "### Task 6: Find precision for Decision Tree"
   ]
  },
  {
   "cell_type": "code",
   "execution_count": 15,
   "metadata": {},
   "outputs": [],
   "source": [
    "from sklearn.metrics import precision_score"
   ]
  },
  {
   "cell_type": "code",
   "execution_count": 16,
   "metadata": {},
   "outputs": [
    {
     "name": "stdout",
     "output_type": "stream",
     "text": [
      "Precision: 0.7857142857142857\n"
     ]
    }
   ],
   "source": [
    "# write code here\n",
    "precision_dt = precision_score(ytest, dt_pred)\n",
    "print(\"Precision: {}\".format(precision_dt))"
   ]
  },
  {
   "cell_type": "markdown",
   "metadata": {},
   "source": [
    "### Task 7: Find Recall for Decision Tree"
   ]
  },
  {
   "cell_type": "code",
   "execution_count": 17,
   "metadata": {},
   "outputs": [],
   "source": [
    "from sklearn.metrics import recall_score"
   ]
  },
  {
   "cell_type": "code",
   "execution_count": 18,
   "metadata": {},
   "outputs": [
    {
     "name": "stdout",
     "output_type": "stream",
     "text": [
      "Recall: 0.8020833333333334\n"
     ]
    }
   ],
   "source": [
    "# write code here\n",
    "recall_dt = recall_score(ytest, dt_pred)\n",
    "print(\"Recall: {}\".format(recall_dt))"
   ]
  },
  {
   "cell_type": "markdown",
   "metadata": {},
   "source": [
    "### Task 8: Find F1 Score for Decision Tree"
   ]
  },
  {
   "cell_type": "code",
   "execution_count": 19,
   "metadata": {},
   "outputs": [],
   "source": [
    "from sklearn.metrics import f1_score"
   ]
  },
  {
   "cell_type": "code",
   "execution_count": 20,
   "metadata": {},
   "outputs": [
    {
     "name": "stdout",
     "output_type": "stream",
     "text": [
      "F1 Score: 0.7938144329896908\n"
     ]
    }
   ],
   "source": [
    "# write code here\n",
    "dt_f1 = f1_score(ytest, dt_pred)\n",
    "print(\"F1 Score: {}\".format(dt_f1))"
   ]
  },
  {
   "cell_type": "markdown",
   "metadata": {},
   "source": [
    "### Task 9: Print Classification Report for Decision Tree"
   ]
  },
  {
   "cell_type": "code",
   "execution_count": 21,
   "metadata": {},
   "outputs": [],
   "source": [
    "from sklearn.metrics import classification_report"
   ]
  },
  {
   "cell_type": "code",
   "execution_count": 22,
   "metadata": {},
   "outputs": [
    {
     "name": "stdout",
     "output_type": "stream",
     "text": [
      "              precision    recall  f1-score   support\n",
      "\n",
      "           0       0.89      0.88      0.88       172\n",
      "           1       0.79      0.80      0.79        96\n",
      "\n",
      "    accuracy                           0.85       268\n",
      "   macro avg       0.84      0.84      0.84       268\n",
      "weighted avg       0.85      0.85      0.85       268\n",
      "\n"
     ]
    }
   ],
   "source": [
    "# write code here\n",
    "print(classification_report(ytest, dt_pred))"
   ]
  },
  {
   "cell_type": "markdown",
   "metadata": {},
   "source": [
    "### ROC Curve<br>\n",
    "Importing function to plot ROC AUC Curve"
   ]
  },
  {
   "cell_type": "code",
   "execution_count": 23,
   "metadata": {},
   "outputs": [],
   "source": [
    "from plot_roc_curve import plot_roc_curve"
   ]
  },
  {
   "cell_type": "code",
   "execution_count": 24,
   "metadata": {},
   "outputs": [],
   "source": [
    "from sklearn.metrics import auc, roc_curve, roc_auc_score"
   ]
  },
  {
   "cell_type": "code",
   "execution_count": 25,
   "metadata": {},
   "outputs": [
    {
     "data": {
      "image/png": "[encoded data removed]",
      "text/plain": [
       "<Figure size 576x432 with 1 Axes>"
      ]
     },
     "metadata": {
      "needs_background": "light"
     },
     "output_type": "display_data"
    }
   ],
   "source": [
    "sns.set_context('poster')\n",
    "auc_dt = roc_auc_score(ytest, dt_pred_prb)\n",
    "fpr, tpr, threshold = roc_curve(ytest, dt_pred_prb)\n",
    "plot_roc_curve(fpr, tpr, label='AUC = %0.3f' % auc_dt)"
   ]
  },
  {
   "cell_type": "markdown",
   "metadata": {},
   "source": [
    "## Ploting Decision Tree"
   ]
  },
  {
   "cell_type": "markdown",
   "metadata": {},
   "source": [
    "Loading packages"
   ]
  },
  {
   "cell_type": "code",
   "execution_count": 26,
   "metadata": {},
   "outputs": [
    {
     "name": "stdout",
     "output_type": "stream",
     "text": [
      "Requirement already satisfied: six in c:\\users\\user\\anaconda3\\lib\\site-packages (1.15.0)\n",
      "Note: you may need to restart the kernel to use updated packages.\n"
     ]
    }
   ],
   "source": [
    "pip install six"
   ]
  },
  {
   "cell_type": "code",
   "execution_count": 27,
   "metadata": {},
   "outputs": [],
   "source": [
    "from six import StringIO\n",
    "#from sklearn.externals.six import StringIO\n",
    "from IPython.display import Image\n",
    "from sklearn.tree import export_graphviz\n",
    "import pydotplus"
   ]
  },
  {
   "cell_type": "markdown",
   "metadata": {},
   "source": [
    "Download Graphviz 2.38 from this [link](https://graphviz.gitlab.io/_pages/Download/Download_windows.html) and install. Then run below line as per your intallation path. (This step is one time)"
   ]
  },
  {
   "cell_type": "code",
   "execution_count": 28,
   "metadata": {},
   "outputs": [],
   "source": [
    "#import os\n",
    "#os.environ[\"Path\"] += os.pathsep + 'C:\\Program Files (x86)\\Graphviz2.38\\bin'"
   ]
  },
  {
   "cell_type": "code",
   "execution_count": 29,
   "metadata": {},
   "outputs": [],
   "source": [
    "dot_data = StringIO()"
   ]
  },
  {
   "cell_type": "code",
   "execution_count": 30,
   "metadata": {},
   "outputs": [],
   "source": [
    "export_graphviz(clf_dt, out_file=dot_data, filled=True, rounded=True, special_characters=True, feature_names=list(X.columns))"
   ]
  },
  {
   "cell_type": "code",
   "execution_count": 31,
   "metadata": {},
   "outputs": [],
   "source": [
    "graph = pydotplus.graph_from_dot_data(dot_data.getvalue())"
   ]
  },
  {
   "cell_type": "code",
   "execution_count": 32,
   "metadata": {},
   "outputs": [
    {
     "data": {
      "image/png": "[encoded data removed]",
      "text/plain": [
       "<IPython.core.display.Image object>"
      ]
     },
     "execution_count": 32,
     "metadata": {},
     "output_type": "execute_result"
    }
   ],
   "source": [
    "Image(graph.create_png())"
   ]
  },
  {
   "cell_type": "markdown",
   "metadata": {},
   "source": [
    "Exporting PNG file of Decision Trees"
   ]
  },
  {
   "cell_type": "code",
   "execution_count": 33,
   "metadata": {},
   "outputs": [
    {
     "data": {
      "text/plain": [
       "True"
      ]
     },
     "execution_count": 33,
     "metadata": {},
     "output_type": "execute_result"
    }
   ],
   "source": [
    "graph.write_png('Decision Tree_Titanic.png')"
   ]
  },
  {
   "cell_type": "markdown",
   "metadata": {},
   "source": [
    "## Features Importance"
   ]
  },
  {
   "cell_type": "code",
   "execution_count": 34,
   "metadata": {},
   "outputs": [
    {
     "data": {
      "text/plain": [
       "array([0.        , 0.        , 0.06720923, 0.        , 0.13844724,\n",
       "       0.        , 0.        , 0.        , 0.        , 0.        ,\n",
       "       0.        , 0.        , 0.59849287, 0.        , 0.06553138,\n",
       "       0.        , 0.        , 0.08715219, 0.        , 0.        ,\n",
       "       0.        , 0.        , 0.02084285, 0.        , 0.        ,\n",
       "       0.        , 0.        , 0.        , 0.02232423, 0.        ])"
      ]
     },
     "execution_count": 34,
     "metadata": {},
     "output_type": "execute_result"
    }
   ],
   "source": [
    "clf_dt.feature_importances_"
   ]
  },
  {
   "cell_type": "code",
   "execution_count": 35,
   "metadata": {},
   "outputs": [
    {
     "data": {
      "text/plain": [
       "[('SibSp', 0.0),\n",
       " ('Parch', 0.0),\n",
       " ('Pclass_1', 0.06720923019824247),\n",
       " ('Pclass_2', 0.0),\n",
       " ('Pclass_3', 0.13844724222638327),\n",
       " ('Sex_female', 0.0),\n",
       " ('Sex_male', 0.0),\n",
       " ('Embarked_C', 0.0),\n",
       " ('Embarked_Q', 0.0),\n",
       " ('Embarked_S', 0.0),\n",
       " ('Title_Master', 0.0),\n",
       " ('Title_Miss', 0.0),\n",
       " ('Title_Mr', 0.5984928741149036),\n",
       " ('Title_Mrs', 0.0),\n",
       " ('Title_Rare Title', 0.06553137630060007),\n",
       " ('GrpSize_couple', 0.0),\n",
       " ('GrpSize_group', 0.0),\n",
       " ('GrpSize_large group', 0.08715219205067479),\n",
       " ('GrpSize_solo', 0.0),\n",
       " ('FareCat_0-10', 0.0),\n",
       " ('FareCat_100+', 0.0),\n",
       " ('FareCat_25-40', 0.0),\n",
       " ('FareCat_40-70', 0.02084285439629028),\n",
       " ('FareCat_70-100', 0.0),\n",
       " ('FareCat_Oct-25', 0.0),\n",
       " ('AgeCat_0-16', 0.0),\n",
       " ('AgeCat_16-32', 0.0),\n",
       " ('AgeCat_32-48', 0.0),\n",
       " ('AgeCat_48-64', 0.02232423071290549),\n",
       " ('AgeCat_64+', 0.0)]"
      ]
     },
     "execution_count": 35,
     "metadata": {},
     "output_type": "execute_result"
    }
   ],
   "source": [
    "list(zip(X.columns, clf_dt.feature_importances_))"
   ]
  },
  {
   "cell_type": "code",
   "execution_count": 36,
   "metadata": {},
   "outputs": [],
   "source": [
    "features_tuple = list(zip(X.columns, clf_dt.feature_importances_))"
   ]
  },
  {
   "cell_type": "code",
   "execution_count": 37,
   "metadata": {},
   "outputs": [
    {
     "data": {
      "text/plain": [
       "[('SibSp', 0.0),\n",
       " ('Parch', 0.0),\n",
       " ('Pclass_1', 0.06720923019824247),\n",
       " ('Pclass_2', 0.0),\n",
       " ('Pclass_3', 0.13844724222638327),\n",
       " ('Sex_female', 0.0),\n",
       " ('Sex_male', 0.0),\n",
       " ('Embarked_C', 0.0),\n",
       " ('Embarked_Q', 0.0),\n",
       " ('Embarked_S', 0.0),\n",
       " ('Title_Master', 0.0),\n",
       " ('Title_Miss', 0.0),\n",
       " ('Title_Mr', 0.5984928741149036),\n",
       " ('Title_Mrs', 0.0),\n",
       " ('Title_Rare Title', 0.06553137630060007),\n",
       " ('GrpSize_couple', 0.0),\n",
       " ('GrpSize_group', 0.0),\n",
       " ('GrpSize_large group', 0.08715219205067479),\n",
       " ('GrpSize_solo', 0.0),\n",
       " ('FareCat_0-10', 0.0),\n",
       " ('FareCat_100+', 0.0),\n",
       " ('FareCat_25-40', 0.0),\n",
       " ('FareCat_40-70', 0.02084285439629028),\n",
       " ('FareCat_70-100', 0.0),\n",
       " ('FareCat_Oct-25', 0.0),\n",
       " ('AgeCat_0-16', 0.0),\n",
       " ('AgeCat_16-32', 0.0),\n",
       " ('AgeCat_32-48', 0.0),\n",
       " ('AgeCat_48-64', 0.02232423071290549),\n",
       " ('AgeCat_64+', 0.0)]"
      ]
     },
     "execution_count": 37,
     "metadata": {},
     "output_type": "execute_result"
    }
   ],
   "source": [
    "features_tuple"
   ]
  },
  {
   "cell_type": "code",
   "execution_count": 38,
   "metadata": {},
   "outputs": [],
   "source": [
    "feature_imp = pd.DataFrame(features_tuple, columns=[\n",
    "                           \"Feature Names\", \"Importance\"])"
   ]
  },
  {
   "cell_type": "code",
   "execution_count": 39,
   "metadata": {},
   "outputs": [
    {
     "data": {
      "text/html": [
       "<div>\n",
       "<style scoped>\n",
       "    .dataframe tbody tr th:only-of-type {\n",
       "        vertical-align: middle;\n",
       "    }\n",
       "\n",
       "    .dataframe tbody tr th {\n",
       "        vertical-align: top;\n",
       "    }\n",
       "\n",
       "    .dataframe thead th {\n",
       "        text-align: right;\n",
       "    }\n",
       "</style>\n",
       "<table border=\"1\" class=\"dataframe\">\n",
       "  <thead>\n",
       "    <tr style=\"text-align: right;\">\n",
       "      <th></th>\n",
       "      <th>Feature Names</th>\n",
       "      <th>Importance</th>\n",
       "    </tr>\n",
       "  </thead>\n",
       "  <tbody>\n",
       "    <tr>\n",
       "      <th>0</th>\n",
       "      <td>SibSp</td>\n",
       "      <td>0.000000</td>\n",
       "    </tr>\n",
       "    <tr>\n",
       "      <th>1</th>\n",
       "      <td>Parch</td>\n",
       "      <td>0.000000</td>\n",
       "    </tr>\n",
       "    <tr>\n",
       "      <th>2</th>\n",
       "      <td>Pclass_1</td>\n",
       "      <td>0.067209</td>\n",
       "    </tr>\n",
       "    <tr>\n",
       "      <th>3</th>\n",
       "      <td>Pclass_2</td>\n",
       "      <td>0.000000</td>\n",
       "    </tr>\n",
       "    <tr>\n",
       "      <th>4</th>\n",
       "      <td>Pclass_3</td>\n",
       "      <td>0.138447</td>\n",
       "    </tr>\n",
       "    <tr>\n",
       "      <th>5</th>\n",
       "      <td>Sex_female</td>\n",
       "      <td>0.000000</td>\n",
       "    </tr>\n",
       "    <tr>\n",
       "      <th>6</th>\n",
       "      <td>Sex_male</td>\n",
       "      <td>0.000000</td>\n",
       "    </tr>\n",
       "    <tr>\n",
       "      <th>7</th>\n",
       "      <td>Embarked_C</td>\n",
       "      <td>0.000000</td>\n",
       "    </tr>\n",
       "    <tr>\n",
       "      <th>8</th>\n",
       "      <td>Embarked_Q</td>\n",
       "      <td>0.000000</td>\n",
       "    </tr>\n",
       "    <tr>\n",
       "      <th>9</th>\n",
       "      <td>Embarked_S</td>\n",
       "      <td>0.000000</td>\n",
       "    </tr>\n",
       "    <tr>\n",
       "      <th>10</th>\n",
       "      <td>Title_Master</td>\n",
       "      <td>0.000000</td>\n",
       "    </tr>\n",
       "    <tr>\n",
       "      <th>11</th>\n",
       "      <td>Title_Miss</td>\n",
       "      <td>0.000000</td>\n",
       "    </tr>\n",
       "    <tr>\n",
       "      <th>12</th>\n",
       "      <td>Title_Mr</td>\n",
       "      <td>0.598493</td>\n",
       "    </tr>\n",
       "    <tr>\n",
       "      <th>13</th>\n",
       "      <td>Title_Mrs</td>\n",
       "      <td>0.000000</td>\n",
       "    </tr>\n",
       "    <tr>\n",
       "      <th>14</th>\n",
       "      <td>Title_Rare Title</td>\n",
       "      <td>0.065531</td>\n",
       "    </tr>\n",
       "    <tr>\n",
       "      <th>15</th>\n",
       "      <td>GrpSize_couple</td>\n",
       "      <td>0.000000</td>\n",
       "    </tr>\n",
       "    <tr>\n",
       "      <th>16</th>\n",
       "      <td>GrpSize_group</td>\n",
       "      <td>0.000000</td>\n",
       "    </tr>\n",
       "    <tr>\n",
       "      <th>17</th>\n",
       "      <td>GrpSize_large group</td>\n",
       "      <td>0.087152</td>\n",
       "    </tr>\n",
       "    <tr>\n",
       "      <th>18</th>\n",
       "      <td>GrpSize_solo</td>\n",
       "      <td>0.000000</td>\n",
       "    </tr>\n",
       "    <tr>\n",
       "      <th>19</th>\n",
       "      <td>FareCat_0-10</td>\n",
       "      <td>0.000000</td>\n",
       "    </tr>\n",
       "    <tr>\n",
       "      <th>20</th>\n",
       "      <td>FareCat_100+</td>\n",
       "      <td>0.000000</td>\n",
       "    </tr>\n",
       "    <tr>\n",
       "      <th>21</th>\n",
       "      <td>FareCat_25-40</td>\n",
       "      <td>0.000000</td>\n",
       "    </tr>\n",
       "    <tr>\n",
       "      <th>22</th>\n",
       "      <td>FareCat_40-70</td>\n",
       "      <td>0.020843</td>\n",
       "    </tr>\n",
       "    <tr>\n",
       "      <th>23</th>\n",
       "      <td>FareCat_70-100</td>\n",
       "      <td>0.000000</td>\n",
       "    </tr>\n",
       "    <tr>\n",
       "      <th>24</th>\n",
       "      <td>FareCat_Oct-25</td>\n",
       "      <td>0.000000</td>\n",
       "    </tr>\n",
       "    <tr>\n",
       "      <th>25</th>\n",
       "      <td>AgeCat_0-16</td>\n",
       "      <td>0.000000</td>\n",
       "    </tr>\n",
       "    <tr>\n",
       "      <th>26</th>\n",
       "      <td>AgeCat_16-32</td>\n",
       "      <td>0.000000</td>\n",
       "    </tr>\n",
       "    <tr>\n",
       "      <th>27</th>\n",
       "      <td>AgeCat_32-48</td>\n",
       "      <td>0.000000</td>\n",
       "    </tr>\n",
       "    <tr>\n",
       "      <th>28</th>\n",
       "      <td>AgeCat_48-64</td>\n",
       "      <td>0.022324</td>\n",
       "    </tr>\n",
       "    <tr>\n",
       "      <th>29</th>\n",
       "      <td>AgeCat_64+</td>\n",
       "      <td>0.000000</td>\n",
       "    </tr>\n",
       "  </tbody>\n",
       "</table>\n",
       "</div>"
      ],
      "text/plain": [
       "          Feature Names  Importance\n",
       "0                 SibSp    0.000000\n",
       "1                 Parch    0.000000\n",
       "2              Pclass_1    0.067209\n",
       "3              Pclass_2    0.000000\n",
       "4              Pclass_3    0.138447\n",
       "5            Sex_female    0.000000\n",
       "6              Sex_male    0.000000\n",
       "7            Embarked_C    0.000000\n",
       "8            Embarked_Q    0.000000\n",
       "9            Embarked_S    0.000000\n",
       "10         Title_Master    0.000000\n",
       "11           Title_Miss    0.000000\n",
       "12             Title_Mr    0.598493\n",
       "13            Title_Mrs    0.000000\n",
       "14     Title_Rare Title    0.065531\n",
       "15       GrpSize_couple    0.000000\n",
       "16        GrpSize_group    0.000000\n",
       "17  GrpSize_large group    0.087152\n",
       "18         GrpSize_solo    0.000000\n",
       "19         FareCat_0-10    0.000000\n",
       "20         FareCat_100+    0.000000\n",
       "21        FareCat_25-40    0.000000\n",
       "22        FareCat_40-70    0.020843\n",
       "23       FareCat_70-100    0.000000\n",
       "24       FareCat_Oct-25    0.000000\n",
       "25          AgeCat_0-16    0.000000\n",
       "26         AgeCat_16-32    0.000000\n",
       "27         AgeCat_32-48    0.000000\n",
       "28         AgeCat_48-64    0.022324\n",
       "29           AgeCat_64+    0.000000"
      ]
     },
     "execution_count": 39,
     "metadata": {},
     "output_type": "execute_result"
    }
   ],
   "source": [
    "feature_imp"
   ]
  },
  {
   "cell_type": "code",
   "execution_count": 40,
   "metadata": {},
   "outputs": [],
   "source": [
    "feature_imp = feature_imp.sort_values(\"Importance\", ascending=False)"
   ]
  },
  {
   "cell_type": "code",
   "execution_count": 41,
   "metadata": {},
   "outputs": [
    {
     "data": {
      "text/html": [
       "<div>\n",
       "<style scoped>\n",
       "    .dataframe tbody tr th:only-of-type {\n",
       "        vertical-align: middle;\n",
       "    }\n",
       "\n",
       "    .dataframe tbody tr th {\n",
       "        vertical-align: top;\n",
       "    }\n",
       "\n",
       "    .dataframe thead th {\n",
       "        text-align: right;\n",
       "    }\n",
       "</style>\n",
       "<table border=\"1\" class=\"dataframe\">\n",
       "  <thead>\n",
       "    <tr style=\"text-align: right;\">\n",
       "      <th></th>\n",
       "      <th>Feature Names</th>\n",
       "      <th>Importance</th>\n",
       "    </tr>\n",
       "  </thead>\n",
       "  <tbody>\n",
       "    <tr>\n",
       "      <th>12</th>\n",
       "      <td>Title_Mr</td>\n",
       "      <td>0.598493</td>\n",
       "    </tr>\n",
       "    <tr>\n",
       "      <th>4</th>\n",
       "      <td>Pclass_3</td>\n",
       "      <td>0.138447</td>\n",
       "    </tr>\n",
       "    <tr>\n",
       "      <th>17</th>\n",
       "      <td>GrpSize_large group</td>\n",
       "      <td>0.087152</td>\n",
       "    </tr>\n",
       "    <tr>\n",
       "      <th>2</th>\n",
       "      <td>Pclass_1</td>\n",
       "      <td>0.067209</td>\n",
       "    </tr>\n",
       "    <tr>\n",
       "      <th>14</th>\n",
       "      <td>Title_Rare Title</td>\n",
       "      <td>0.065531</td>\n",
       "    </tr>\n",
       "    <tr>\n",
       "      <th>28</th>\n",
       "      <td>AgeCat_48-64</td>\n",
       "      <td>0.022324</td>\n",
       "    </tr>\n",
       "    <tr>\n",
       "      <th>22</th>\n",
       "      <td>FareCat_40-70</td>\n",
       "      <td>0.020843</td>\n",
       "    </tr>\n",
       "    <tr>\n",
       "      <th>0</th>\n",
       "      <td>SibSp</td>\n",
       "      <td>0.000000</td>\n",
       "    </tr>\n",
       "    <tr>\n",
       "      <th>21</th>\n",
       "      <td>FareCat_25-40</td>\n",
       "      <td>0.000000</td>\n",
       "    </tr>\n",
       "    <tr>\n",
       "      <th>19</th>\n",
       "      <td>FareCat_0-10</td>\n",
       "      <td>0.000000</td>\n",
       "    </tr>\n",
       "    <tr>\n",
       "      <th>20</th>\n",
       "      <td>FareCat_100+</td>\n",
       "      <td>0.000000</td>\n",
       "    </tr>\n",
       "    <tr>\n",
       "      <th>24</th>\n",
       "      <td>FareCat_Oct-25</td>\n",
       "      <td>0.000000</td>\n",
       "    </tr>\n",
       "    <tr>\n",
       "      <th>23</th>\n",
       "      <td>FareCat_70-100</td>\n",
       "      <td>0.000000</td>\n",
       "    </tr>\n",
       "    <tr>\n",
       "      <th>25</th>\n",
       "      <td>AgeCat_0-16</td>\n",
       "      <td>0.000000</td>\n",
       "    </tr>\n",
       "    <tr>\n",
       "      <th>26</th>\n",
       "      <td>AgeCat_16-32</td>\n",
       "      <td>0.000000</td>\n",
       "    </tr>\n",
       "    <tr>\n",
       "      <th>27</th>\n",
       "      <td>AgeCat_32-48</td>\n",
       "      <td>0.000000</td>\n",
       "    </tr>\n",
       "    <tr>\n",
       "      <th>18</th>\n",
       "      <td>GrpSize_solo</td>\n",
       "      <td>0.000000</td>\n",
       "    </tr>\n",
       "    <tr>\n",
       "      <th>15</th>\n",
       "      <td>GrpSize_couple</td>\n",
       "      <td>0.000000</td>\n",
       "    </tr>\n",
       "    <tr>\n",
       "      <th>16</th>\n",
       "      <td>GrpSize_group</td>\n",
       "      <td>0.000000</td>\n",
       "    </tr>\n",
       "    <tr>\n",
       "      <th>1</th>\n",
       "      <td>Parch</td>\n",
       "      <td>0.000000</td>\n",
       "    </tr>\n",
       "    <tr>\n",
       "      <th>13</th>\n",
       "      <td>Title_Mrs</td>\n",
       "      <td>0.000000</td>\n",
       "    </tr>\n",
       "    <tr>\n",
       "      <th>11</th>\n",
       "      <td>Title_Miss</td>\n",
       "      <td>0.000000</td>\n",
       "    </tr>\n",
       "    <tr>\n",
       "      <th>10</th>\n",
       "      <td>Title_Master</td>\n",
       "      <td>0.000000</td>\n",
       "    </tr>\n",
       "    <tr>\n",
       "      <th>9</th>\n",
       "      <td>Embarked_S</td>\n",
       "      <td>0.000000</td>\n",
       "    </tr>\n",
       "    <tr>\n",
       "      <th>8</th>\n",
       "      <td>Embarked_Q</td>\n",
       "      <td>0.000000</td>\n",
       "    </tr>\n",
       "    <tr>\n",
       "      <th>7</th>\n",
       "      <td>Embarked_C</td>\n",
       "      <td>0.000000</td>\n",
       "    </tr>\n",
       "    <tr>\n",
       "      <th>6</th>\n",
       "      <td>Sex_male</td>\n",
       "      <td>0.000000</td>\n",
       "    </tr>\n",
       "    <tr>\n",
       "      <th>5</th>\n",
       "      <td>Sex_female</td>\n",
       "      <td>0.000000</td>\n",
       "    </tr>\n",
       "    <tr>\n",
       "      <th>3</th>\n",
       "      <td>Pclass_2</td>\n",
       "      <td>0.000000</td>\n",
       "    </tr>\n",
       "    <tr>\n",
       "      <th>29</th>\n",
       "      <td>AgeCat_64+</td>\n",
       "      <td>0.000000</td>\n",
       "    </tr>\n",
       "  </tbody>\n",
       "</table>\n",
       "</div>"
      ],
      "text/plain": [
       "          Feature Names  Importance\n",
       "12             Title_Mr    0.598493\n",
       "4              Pclass_3    0.138447\n",
       "17  GrpSize_large group    0.087152\n",
       "2              Pclass_1    0.067209\n",
       "14     Title_Rare Title    0.065531\n",
       "28         AgeCat_48-64    0.022324\n",
       "22        FareCat_40-70    0.020843\n",
       "0                 SibSp    0.000000\n",
       "21        FareCat_25-40    0.000000\n",
       "19         FareCat_0-10    0.000000\n",
       "20         FareCat_100+    0.000000\n",
       "24       FareCat_Oct-25    0.000000\n",
       "23       FareCat_70-100    0.000000\n",
       "25          AgeCat_0-16    0.000000\n",
       "26         AgeCat_16-32    0.000000\n",
       "27         AgeCat_32-48    0.000000\n",
       "18         GrpSize_solo    0.000000\n",
       "15       GrpSize_couple    0.000000\n",
       "16        GrpSize_group    0.000000\n",
       "1                 Parch    0.000000\n",
       "13            Title_Mrs    0.000000\n",
       "11           Title_Miss    0.000000\n",
       "10         Title_Master    0.000000\n",
       "9            Embarked_S    0.000000\n",
       "8            Embarked_Q    0.000000\n",
       "7            Embarked_C    0.000000\n",
       "6              Sex_male    0.000000\n",
       "5            Sex_female    0.000000\n",
       "3              Pclass_2    0.000000\n",
       "29           AgeCat_64+    0.000000"
      ]
     },
     "execution_count": 41,
     "metadata": {},
     "output_type": "execute_result"
    }
   ],
   "source": [
    "feature_imp"
   ]
  },
  {
   "cell_type": "code",
   "execution_count": 42,
   "metadata": {},
   "outputs": [
    {
     "data": {
      "text/plain": [
       "Text(0.5, 1.0, 'Decision Classifier - Features Importance')"
      ]
     },
     "execution_count": 42,
     "metadata": {},
     "output_type": "execute_result"
    },
    {
     "data": {
      "image/png": "[encoded data removed]",
      "text/plain": [
       "<Figure size 864x432 with 1 Axes>"
      ]
     },
     "metadata": {
      "needs_background": "light"
     },
     "output_type": "display_data"
    }
   ],
   "source": [
    "plt.figure(figsize=(12, 6))\n",
    "sns.barplot(x=\"Feature Names\", y=\"Importance\", data=feature_imp, color='b')\n",
    "plt.xlabel(\"Titanic Features\")\n",
    "plt.ylabel(\"Importance\")\n",
    "plt.xticks(rotation=90)\n",
    "plt.title(\"Decision Classifier - Features Importance\")"
   ]
  },
  {
   "cell_type": "markdown",
   "metadata": {},
   "source": [
    "# Random Forest"
   ]
  },
  {
   "cell_type": "markdown",
   "metadata": {},
   "source": [
    "### Defining Random Forest classifier"
   ]
  },
  {
   "cell_type": "code",
   "execution_count": 43,
   "metadata": {},
   "outputs": [],
   "source": [
    "from sklearn.ensemble import RandomForestClassifier"
   ]
  },
  {
   "cell_type": "code",
   "execution_count": 44,
   "metadata": {},
   "outputs": [],
   "source": [
    "clf_rf = RandomForestClassifier(random_state=100)"
   ]
  },
  {
   "cell_type": "code",
   "execution_count": 45,
   "metadata": {
    "scrolled": true
   },
   "outputs": [
    {
     "data": {
      "text/plain": [
       "RandomForestClassifier(random_state=100)"
      ]
     },
     "execution_count": 45,
     "metadata": {},
     "output_type": "execute_result"
    }
   ],
   "source": [
    "clf_rf.fit(xtrain, ytrain)"
   ]
  },
  {
   "cell_type": "code",
   "execution_count": 46,
   "metadata": {},
   "outputs": [],
   "source": [
    "rf_pred = clf_rf.predict(xtest)\n",
    "rf_pred_prb = clf_rf.predict_proba(xtest)[:, 1]"
   ]
  },
  {
   "cell_type": "markdown",
   "metadata": {},
   "source": [
    "### Task 10: Find Precision for Random Forest"
   ]
  },
  {
   "cell_type": "code",
   "execution_count": 47,
   "metadata": {},
   "outputs": [
    {
     "name": "stdout",
     "output_type": "stream",
     "text": [
      "Precision: 0.7029702970297029\n"
     ]
    }
   ],
   "source": [
    "# write code here\n",
    "precision_rf = precision_score(ytest, rf_pred)\n",
    "print(\"Precision: {}\".format(precision_rf))"
   ]
  },
  {
   "cell_type": "markdown",
   "metadata": {},
   "source": [
    "### Task 11: Find Accuracy for Random Forest"
   ]
  },
  {
   "cell_type": "code",
   "execution_count": 48,
   "metadata": {
    "scrolled": true
   },
   "outputs": [
    {
     "name": "stdout",
     "output_type": "stream",
     "text": [
      "Accuracy: 0.7947761194029851\n"
     ]
    }
   ],
   "source": [
    "# write code here\n",
    "accuracy_rf = accuracy_score(ytest, rf_pred)\n",
    "print(\"Accuracy: {}\".format(accuracy_rf))"
   ]
  },
  {
   "cell_type": "markdown",
   "metadata": {},
   "source": [
    "### Task 12: Find Recall for Random Forest"
   ]
  },
  {
   "cell_type": "code",
   "execution_count": 49,
   "metadata": {},
   "outputs": [
    {
     "name": "stdout",
     "output_type": "stream",
     "text": [
      "Recall: 0.7395833333333334\n"
     ]
    }
   ],
   "source": [
    "# write code here\n",
    "recall_rf = recall_score(ytest, rf_pred)\n",
    "print(\"Recall: {}\".format(recall_rf))"
   ]
  },
  {
   "cell_type": "markdown",
   "metadata": {},
   "source": [
    "### Task 13: Find F1 Score for Random Forest"
   ]
  },
  {
   "cell_type": "code",
   "execution_count": 50,
   "metadata": {},
   "outputs": [
    {
     "name": "stdout",
     "output_type": "stream",
     "text": [
      "F1 Score: 0.7208121827411168\n"
     ]
    }
   ],
   "source": [
    "# write code here\n",
    "rf_f1 = f1_score(ytest, rf_pred)\n",
    "print(\"F1 Score: {}\".format(rf_f1))"
   ]
  },
  {
   "cell_type": "markdown",
   "metadata": {},
   "source": [
    "### Task 14: Print Classification Report for Random Forest"
   ]
  },
  {
   "cell_type": "code",
   "execution_count": 51,
   "metadata": {},
   "outputs": [],
   "source": [
    "from sklearn.metrics import classification_report"
   ]
  },
  {
   "cell_type": "code",
   "execution_count": 52,
   "metadata": {
    "scrolled": false
   },
   "outputs": [
    {
     "name": "stdout",
     "output_type": "stream",
     "text": [
      "              precision    recall  f1-score   support\n",
      "\n",
      "           0       0.85      0.83      0.84       172\n",
      "           1       0.70      0.74      0.72        96\n",
      "\n",
      "    accuracy                           0.79       268\n",
      "   macro avg       0.78      0.78      0.78       268\n",
      "weighted avg       0.80      0.79      0.80       268\n",
      "\n"
     ]
    }
   ],
   "source": [
    "# write code here\n",
    "print(classification_report(ytest, rf_pred))"
   ]
  },
  {
   "cell_type": "markdown",
   "metadata": {},
   "source": [
    "### ROC Curve for Random Forest"
   ]
  },
  {
   "cell_type": "code",
   "execution_count": 53,
   "metadata": {},
   "outputs": [],
   "source": [
    "from sklearn.metrics import auc, roc_curve, roc_auc_score"
   ]
  },
  {
   "cell_type": "code",
   "execution_count": 54,
   "metadata": {},
   "outputs": [
    {
     "data": {
      "image/png": "[encoded data removed]",
      "text/plain": [
       "<Figure size 576x432 with 1 Axes>"
      ]
     },
     "metadata": {
      "needs_background": "light"
     },
     "output_type": "display_data"
    }
   ],
   "source": [
    "auc_rf = roc_auc_score(ytest, rf_pred_prb)\n",
    "fpr, tpr, threshold = roc_curve(ytest, rf_pred_prb)\n",
    "plot_roc_curve(fpr, tpr, label='AUC = %0.3f' % auc_rf)"
   ]
  },
  {
   "cell_type": "markdown",
   "metadata": {},
   "source": [
    "### Features Importance"
   ]
  },
  {
   "cell_type": "code",
   "execution_count": 55,
   "metadata": {},
   "outputs": [],
   "source": [
    "features_tuple = list(zip(X.columns, clf_rf.feature_importances_))"
   ]
  },
  {
   "cell_type": "code",
   "execution_count": 56,
   "metadata": {},
   "outputs": [],
   "source": [
    "feature_imp = pd.DataFrame(features_tuple, columns=[\n",
    "                           \"Feature Names\", \"Importance\"])"
   ]
  },
  {
   "cell_type": "code",
   "execution_count": 57,
   "metadata": {},
   "outputs": [],
   "source": [
    "feature_imp = feature_imp.sort_values(\"Importance\", ascending=False)"
   ]
  },
  {
   "cell_type": "code",
   "execution_count": 58,
   "metadata": {},
   "outputs": [
    {
     "data": {
      "text/plain": [
       "Text(0.5, 1.0, 'Random Forest Classifier - Features Importance')"
      ]
     },
     "execution_count": 58,
     "metadata": {},
     "output_type": "execute_result"
    },
    {
     "data": {
      "image/png": "[encoded data removed]",
      "text/plain": [
       "<Figure size 864x432 with 1 Axes>"
      ]
     },
     "metadata": {
      "needs_background": "light"
     },
     "output_type": "display_data"
    }
   ],
   "source": [
    "plt.figure(figsize=(12, 6))\n",
    "sns.barplot(x=\"Feature Names\", y=\"Importance\", data=feature_imp, color='b')\n",
    "plt.xlabel(\"Titanic Features\")\n",
    "plt.ylabel(\"Importance\")\n",
    "plt.xticks(rotation=90)\n",
    "plt.title(\"Random Forest Classifier - Features Importance\")"
   ]
  },
  {
   "cell_type": "markdown",
   "metadata": {},
   "source": [
    "## Hyperparameter Tuning using GridSearchCV"
   ]
  },
  {
   "cell_type": "markdown",
   "metadata": {},
   "source": [
    "Importing GridSearchCV"
   ]
  },
  {
   "cell_type": "code",
   "execution_count": 59,
   "metadata": {},
   "outputs": [],
   "source": [
    "from sklearn.model_selection import GridSearchCV"
   ]
  },
  {
   "cell_type": "markdown",
   "metadata": {},
   "source": [
    "Making grid of parameters and running GridSearch CV"
   ]
  },
  {
   "cell_type": "code",
   "execution_count": 60,
   "metadata": {},
   "outputs": [
    {
     "data": {
      "text/plain": [
       "({'max_depth': 20, 'min_samples_leaf': 2, 'n_estimators': 54},\n",
       " 0.8218709677419355)"
      ]
     },
     "execution_count": 60,
     "metadata": {},
     "output_type": "execute_result"
    }
   ],
   "source": [
    "param_grid1 = {\"n_estimators\": [9, 18, 27, 36, 45, 54, 63],\n",
    "               \"max_depth\": [1, 5, 10, 15, 20, 25, 30],\n",
    "               \"min_samples_leaf\": [1, 2, 4, 6, 8, 10]}\n",
    "\n",
    "RF = RandomForestClassifier(random_state=100)\n",
    "# Instantiate the GridSearchCV object: logreg_cv\n",
    "RF_cv1 = GridSearchCV(RF, param_grid1, cv=5, scoring='accuracy', n_jobs=4)\n",
    "\n",
    "# Fit it to the data\n",
    "RF_cv1.fit(xtrain, ytrain)\n",
    "\n",
    "# RF_cv1.cv_results_,\n",
    "RF_cv1.best_params_, RF_cv1.best_score_"
   ]
  },
  {
   "cell_type": "markdown",
   "metadata": {},
   "source": [
    "So we found **'max_depth': 10, 'min_samples_leaf': 2, 'n_estimators': 18** as optimum parameters"
   ]
  },
  {
   "cell_type": "markdown",
   "metadata": {},
   "source": [
    "Let's try new set of parameter values near to optimum."
   ]
  },
  {
   "cell_type": "code",
   "execution_count": 61,
   "metadata": {
    "scrolled": true
   },
   "outputs": [
    {
     "data": {
      "text/plain": [
       "({'max_depth': 16, 'min_samples_leaf': 2, 'n_estimators': 54},\n",
       " 0.8218709677419355)"
      ]
     },
     "execution_count": 61,
     "metadata": {},
     "output_type": "execute_result"
    }
   ],
   "source": [
    "param_grid2 = {\"n_estimators\": [45, 48, 51,54,57, 60, 63],\n",
    "               \"max_depth\": [15,16,17,18,19,20,21,22,23,24,25],\n",
    "               \"min_samples_leaf\": [1, 2, 3, 4]}\n",
    "\n",
    "RF = RandomForestClassifier(random_state=100)\n",
    "# Instantiate the GridSearchCV object: logreg_cv\n",
    "RF_cv2 = GridSearchCV(RF, param_grid2, cv=5, scoring='accuracy', n_jobs=4)\n",
    "\n",
    "# Fit it to the data\n",
    "RF_cv2.fit(xtrain, ytrain)\n",
    "\n",
    "# RF_cv2.grid_scores_,\n",
    "RF_cv2.best_params_, RF_cv2.best_score_"
   ]
  },
  {
   "cell_type": "markdown",
   "metadata": {},
   "source": [
    " So we found **'max_depth': 10, 'min_samples_leaf': 2, 'n_estimators': 15** as optimum parameters"
   ]
  },
  {
   "cell_type": "markdown",
   "metadata": {},
   "source": [
    "### Tuned Random Forest"
   ]
  },
  {
   "cell_type": "code",
   "execution_count": 62,
   "metadata": {},
   "outputs": [],
   "source": [
    "RF_grid = RF_cv2.best_estimator_"
   ]
  },
  {
   "cell_type": "code",
   "execution_count": 63,
   "metadata": {
    "scrolled": true
   },
   "outputs": [
    {
     "data": {
      "text/plain": [
       "RandomForestClassifier(max_depth=16, min_samples_leaf=2, n_estimators=54,\n",
       "                       random_state=100)"
      ]
     },
     "execution_count": 63,
     "metadata": {},
     "output_type": "execute_result"
    }
   ],
   "source": [
    "RF_grid.fit(xtrain, ytrain)"
   ]
  },
  {
   "cell_type": "code",
   "execution_count": 64,
   "metadata": {},
   "outputs": [],
   "source": [
    "rf_pred_t = RF_grid.predict(xtest)\n",
    "rf_pred_prb_t = RF_grid.predict_proba(xtest)[:, 1]"
   ]
  },
  {
   "cell_type": "markdown",
   "metadata": {},
   "source": [
    "### Task 15: Find Accuracy for Tuned Random Forest"
   ]
  },
  {
   "cell_type": "code",
   "execution_count": 65,
   "metadata": {},
   "outputs": [
    {
     "name": "stdout",
     "output_type": "stream",
     "text": [
      "Accuracy after tuning: (<function accuracy_score at 0x0000018255C8EF70>, array([0, 0, 1, 0, 0, 1, 1, 1, 0, 0, 0, 0, 0, 0, 0, 0, 1, 0, 1, 0, 0, 0,\n",
      "       1, 0, 0, 0, 0, 0, 0, 1, 1, 1, 1, 1, 1, 0, 0, 0, 1, 0, 0, 1, 0, 0,\n",
      "       0, 1, 0, 1, 1, 1, 1, 1, 1, 0, 0, 1, 1, 0, 0, 0, 0, 1, 1, 0, 0, 0,\n",
      "       1, 0, 1, 0, 0, 1, 0, 1, 1, 1, 0, 0, 0, 0, 0, 0, 0, 0, 1, 0, 0, 0,\n",
      "       1, 0, 1, 1, 0, 1, 0, 1, 0, 0, 1, 0, 1, 0, 1, 0, 0, 0, 0, 1, 0, 0,\n",
      "       0, 0, 1, 0, 0, 0, 0, 1, 1, 1, 0, 0, 1, 0, 0, 1, 0, 1, 1, 0, 0, 1,\n",
      "       0, 1, 0, 0, 1, 0, 1, 1, 0, 1, 0, 0, 1, 1, 1, 0, 0, 1, 0, 0, 0, 0,\n",
      "       1, 0, 0, 1, 0, 0, 0, 1, 0, 1, 0, 0, 0, 1, 0, 0, 1, 1, 0, 1, 1, 0,\n",
      "       1, 1, 0, 1, 1, 0, 0, 0, 0, 0, 0, 0, 0, 0, 0, 0, 1, 0, 0, 0, 0, 0,\n",
      "       0, 1, 0, 0, 1, 1, 1, 0, 1, 0, 1, 0, 0, 0, 0, 1, 0, 0, 1, 0, 0, 1,\n",
      "       0, 0, 0, 0, 0, 1, 1, 1, 1, 0, 0, 0, 0, 0, 1, 1, 0, 1, 0, 0, 0, 0,\n",
      "       1, 0, 1, 1, 1, 0, 0, 1, 1, 0, 0, 0, 0, 0, 1, 0, 0, 0, 0, 0, 1, 1,\n",
      "       1, 0, 0, 1], dtype=int64))\n"
     ]
    }
   ],
   "source": [
    "# write code here\n",
    "accuracy_rf_t = accuracy_score, rf_pred_t\n",
    "print(\"Accuracy after tuning: {}\".format(accuracy_rf_t))"
   ]
  },
  {
   "cell_type": "markdown",
   "metadata": {},
   "source": [
    "### Task 16: Find Recall for Tuned Random Forest"
   ]
  },
  {
   "cell_type": "code",
   "execution_count": 66,
   "metadata": {},
   "outputs": [
    {
     "data": {
      "text/plain": [
       "(<function sklearn.metrics._classification.recall_score(y_true, y_pred, *, labels=None, pos_label=1, average='binary', sample_weight=None, zero_division='warn')>,\n",
       " array([0, 0, 1, 0, 0, 1, 1, 1, 0, 0, 0, 0, 0, 0, 0, 0, 1, 0, 1, 0, 0, 0,\n",
       "        1, 0, 0, 0, 0, 0, 0, 1, 1, 1, 1, 1, 1, 0, 0, 0, 1, 0, 0, 1, 0, 0,\n",
       "        0, 1, 0, 1, 1, 1, 1, 1, 1, 0, 0, 1, 1, 0, 0, 0, 0, 1, 1, 0, 0, 0,\n",
       "        1, 0, 1, 0, 0, 1, 0, 1, 1, 1, 0, 0, 0, 0, 0, 0, 0, 0, 1, 0, 0, 0,\n",
       "        1, 0, 1, 1, 0, 1, 0, 1, 0, 0, 1, 0, 1, 0, 1, 0, 0, 0, 0, 1, 0, 0,\n",
       "        0, 0, 1, 0, 0, 0, 0, 1, 1, 1, 0, 0, 1, 0, 0, 1, 0, 1, 1, 0, 0, 1,\n",
       "        0, 1, 0, 0, 1, 0, 1, 1, 0, 1, 0, 0, 1, 1, 1, 0, 0, 1, 0, 0, 0, 0,\n",
       "        1, 0, 0, 1, 0, 0, 0, 1, 0, 1, 0, 0, 0, 1, 0, 0, 1, 1, 0, 1, 1, 0,\n",
       "        1, 1, 0, 1, 1, 0, 0, 0, 0, 0, 0, 0, 0, 0, 0, 0, 1, 0, 0, 0, 0, 0,\n",
       "        0, 1, 0, 0, 1, 1, 1, 0, 1, 0, 1, 0, 0, 0, 0, 1, 0, 0, 1, 0, 0, 1,\n",
       "        0, 0, 0, 0, 0, 1, 1, 1, 1, 0, 0, 0, 0, 0, 1, 1, 0, 1, 0, 0, 0, 0,\n",
       "        1, 0, 1, 1, 1, 0, 0, 1, 1, 0, 0, 0, 0, 0, 1, 0, 0, 0, 0, 0, 1, 1,\n",
       "        1, 0, 0, 1], dtype=int64))"
      ]
     },
     "execution_count": 66,
     "metadata": {},
     "output_type": "execute_result"
    }
   ],
   "source": [
    "# write code here\n",
    "recall_rf_t = recall_score, rf_pred_t\n",
    "recall_rf_t"
   ]
  },
  {
   "cell_type": "markdown",
   "metadata": {},
   "source": [
    "### Task 17: Find Precision for Tuned Random Forest"
   ]
  },
  {
   "cell_type": "code",
   "execution_count": 67,
   "metadata": {},
   "outputs": [
    {
     "data": {
      "text/plain": [
       "(<function sklearn.metrics._classification.precision_score(y_true, y_pred, *, labels=None, pos_label=1, average='binary', sample_weight=None, zero_division='warn')>,\n",
       " array([0, 0, 1, 0, 0, 1, 1, 1, 0, 0, 0, 0, 0, 0, 0, 0, 1, 0, 1, 0, 0, 0,\n",
       "        1, 0, 0, 0, 0, 0, 0, 1, 1, 1, 1, 1, 1, 0, 0, 0, 1, 0, 0, 1, 0, 0,\n",
       "        0, 1, 0, 1, 1, 1, 1, 1, 1, 0, 0, 1, 1, 0, 0, 0, 0, 1, 1, 0, 0, 0,\n",
       "        1, 0, 1, 0, 0, 1, 0, 1, 1, 1, 0, 0, 0, 0, 0, 0, 0, 0, 1, 0, 0, 0,\n",
       "        1, 0, 1, 1, 0, 1, 0, 1, 0, 0, 1, 0, 1, 0, 1, 0, 0, 0, 0, 1, 0, 0,\n",
       "        0, 0, 1, 0, 0, 0, 0, 1, 1, 1, 0, 0, 1, 0, 0, 1, 0, 1, 1, 0, 0, 1,\n",
       "        0, 1, 0, 0, 1, 0, 1, 1, 0, 1, 0, 0, 1, 1, 1, 0, 0, 1, 0, 0, 0, 0,\n",
       "        1, 0, 0, 1, 0, 0, 0, 1, 0, 1, 0, 0, 0, 1, 0, 0, 1, 1, 0, 1, 1, 0,\n",
       "        1, 1, 0, 1, 1, 0, 0, 0, 0, 0, 0, 0, 0, 0, 0, 0, 1, 0, 0, 0, 0, 0,\n",
       "        0, 1, 0, 0, 1, 1, 1, 0, 1, 0, 1, 0, 0, 0, 0, 1, 0, 0, 1, 0, 0, 1,\n",
       "        0, 0, 0, 0, 0, 1, 1, 1, 1, 0, 0, 0, 0, 0, 1, 1, 0, 1, 0, 0, 0, 0,\n",
       "        1, 0, 1, 1, 1, 0, 0, 1, 1, 0, 0, 0, 0, 0, 1, 0, 0, 0, 0, 0, 1, 1,\n",
       "        1, 0, 0, 1], dtype=int64))"
      ]
     },
     "execution_count": 67,
     "metadata": {},
     "output_type": "execute_result"
    }
   ],
   "source": [
    "# write code here\n",
    "precision_rf_t = precision_score, rf_pred_t\n",
    "precision_rf_t"
   ]
  },
  {
   "cell_type": "markdown",
   "metadata": {},
   "source": [
    "### Task 18: Find F1 Score"
   ]
  },
  {
   "cell_type": "code",
   "execution_count": 68,
   "metadata": {},
   "outputs": [
    {
     "data": {
      "text/plain": [
       "(<function sklearn.metrics._classification.f1_score(y_true, y_pred, *, labels=None, pos_label=1, average='binary', sample_weight=None, zero_division='warn')>,\n",
       " array([0, 0, 1, 0, 0, 1, 1, 1, 0, 0, 0, 0, 0, 0, 0, 0, 1, 0, 1, 0, 0, 0,\n",
       "        1, 0, 0, 0, 0, 0, 0, 1, 1, 1, 1, 1, 1, 0, 0, 0, 1, 0, 0, 1, 0, 0,\n",
       "        0, 1, 0, 1, 1, 1, 1, 1, 1, 0, 0, 1, 1, 0, 0, 0, 0, 1, 1, 0, 0, 0,\n",
       "        1, 0, 1, 0, 0, 1, 0, 1, 1, 1, 0, 0, 0, 0, 0, 0, 0, 0, 1, 0, 0, 0,\n",
       "        1, 0, 1, 1, 0, 1, 0, 1, 0, 0, 1, 0, 1, 0, 1, 0, 0, 0, 0, 1, 0, 0,\n",
       "        0, 0, 1, 0, 0, 0, 0, 1, 1, 1, 0, 0, 1, 0, 0, 1, 0, 1, 1, 0, 0, 1,\n",
       "        0, 1, 0, 0, 1, 0, 1, 1, 0, 1, 0, 0, 1, 1, 1, 0, 0, 1, 0, 0, 0, 0,\n",
       "        1, 0, 0, 1, 0, 0, 0, 1, 0, 1, 0, 0, 0, 1, 0, 0, 1, 1, 0, 1, 1, 0,\n",
       "        1, 1, 0, 1, 1, 0, 0, 0, 0, 0, 0, 0, 0, 0, 0, 0, 1, 0, 0, 0, 0, 0,\n",
       "        0, 1, 0, 0, 1, 1, 1, 0, 1, 0, 1, 0, 0, 0, 0, 1, 0, 0, 1, 0, 0, 1,\n",
       "        0, 0, 0, 0, 0, 1, 1, 1, 1, 0, 0, 0, 0, 0, 1, 1, 0, 1, 0, 0, 0, 0,\n",
       "        1, 0, 1, 1, 1, 0, 0, 1, 1, 0, 0, 0, 0, 0, 1, 0, 0, 0, 0, 0, 1, 1,\n",
       "        1, 0, 0, 1], dtype=int64))"
      ]
     },
     "execution_count": 68,
     "metadata": {},
     "output_type": "execute_result"
    }
   ],
   "source": [
    "# write code here\n",
    "rf_t_f1 = f1_score, rf_pred_t\n",
    "rf_t_f1"
   ]
  },
  {
   "cell_type": "markdown",
   "metadata": {},
   "source": [
    "### Task 19: Print Classification Report for Tuned Random Forest"
   ]
  },
  {
   "cell_type": "code",
   "execution_count": 69,
   "metadata": {
    "scrolled": true
   },
   "outputs": [
    {
     "name": "stdout",
     "output_type": "stream",
     "text": [
      "              precision    recall  f1-score   support\n",
      "\n",
      "           0       0.88      0.85      0.87       172\n",
      "           1       0.75      0.79      0.77        96\n",
      "\n",
      "    accuracy                           0.83       268\n",
      "   macro avg       0.82      0.82      0.82       268\n",
      "weighted avg       0.83      0.83      0.83       268\n",
      "\n"
     ]
    }
   ],
   "source": [
    "# write code here\n",
    "print(classification_report(ytest, rf_pred_t))"
   ]
  },
  {
   "cell_type": "markdown",
   "metadata": {},
   "source": [
    "### ROC Curve for Tuned Random Forest"
   ]
  },
  {
   "cell_type": "code",
   "execution_count": 70,
   "metadata": {},
   "outputs": [
    {
     "data": {
      "image/png": "[encoded data removed]",
      "text/plain": [
       "<Figure size 576x432 with 1 Axes>"
      ]
     },
     "metadata": {
      "needs_background": "light"
     },
     "output_type": "display_data"
    }
   ],
   "source": [
    "auc_rf_t = roc_auc_score(ytest, rf_pred_prb_t)\n",
    "fpr, tpr, threshold = roc_curve(ytest, rf_pred_prb_t)\n",
    "plot_roc_curve(fpr, tpr, label='AUC Tuned = %0.3f' % auc_rf_t)"
   ]
  },
  {
   "cell_type": "markdown",
   "metadata": {},
   "source": [
    "### Hyperparameters Tuning Using Randomized Search"
   ]
  },
  {
   "cell_type": "code",
   "execution_count": 71,
   "metadata": {},
   "outputs": [],
   "source": [
    "from sklearn.model_selection import RandomizedSearchCV"
   ]
  },
  {
   "cell_type": "code",
   "execution_count": 72,
   "metadata": {},
   "outputs": [],
   "source": [
    "rf_rs = RandomForestClassifier(random_state=100)"
   ]
  },
  {
   "cell_type": "code",
   "execution_count": 73,
   "metadata": {},
   "outputs": [],
   "source": [
    "# Number of trees in random forest\n",
    "n_estimators = [int(x) for x in np.linspace(start=10, stop=1000, num=10)]\n",
    "# Maximum number of levels in tree\n",
    "max_depth = [int(x) for x in np.linspace(10, 110, num=11)]\n",
    "max_depth.append(None)\n",
    "# Minimum number of samples required to split a node\n",
    "min_samples_split = [2, 5, 10]"
   ]
  },
  {
   "cell_type": "code",
   "execution_count": 74,
   "metadata": {},
   "outputs": [],
   "source": [
    "random_grid1 = {\"n_estimators\": n_estimators,\n",
    "                \"max_depth\": max_depth,\n",
    "                \"min_samples_split\": min_samples_split}"
   ]
  },
  {
   "cell_type": "code",
   "execution_count": 75,
   "metadata": {},
   "outputs": [
    {
     "name": "stdout",
     "output_type": "stream",
     "text": [
      "Fitting 5 folds for each of 50 candidates, totalling 250 fits\n",
      "[CV] n_estimators=450, min_samples_split=10, max_depth=80 ............\n"
     ]
    },
    {
     "name": "stderr",
     "output_type": "stream",
     "text": [
      "[Parallel(n_jobs=1)]: Using backend SequentialBackend with 1 concurrent workers.\n"
     ]
    },
    {
     "name": "stdout",
     "output_type": "stream",
     "text": [
      "[CV]  n_estimators=450, min_samples_split=10, max_depth=80, total=   3.4s\n",
      "[CV] n_estimators=450, min_samples_split=10, max_depth=80 ............\n"
     ]
    },
    {
     "name": "stderr",
     "output_type": "stream",
     "text": [
      "[Parallel(n_jobs=1)]: Done   1 out of   1 | elapsed:    3.3s remaining:    0.0s\n"
     ]
    },
    {
     "name": "stdout",
     "output_type": "stream",
     "text": [
      "[CV]  n_estimators=450, min_samples_split=10, max_depth=80, total=   3.0s\n",
      "[CV] n_estimators=450, min_samples_split=10, max_depth=80 ............\n",
      "[CV]  n_estimators=450, min_samples_split=10, max_depth=80, total=   3.1s\n",
      "[CV] n_estimators=450, min_samples_split=10, max_depth=80 ............\n",
      "[CV]  n_estimators=450, min_samples_split=10, max_depth=80, total=   3.0s\n",
      "[CV] n_estimators=450, min_samples_split=10, max_depth=80 ............\n",
      "[CV]  n_estimators=450, min_samples_split=10, max_depth=80, total=   3.4s\n",
      "[CV] n_estimators=560, min_samples_split=5, max_depth=30 .............\n",
      "[CV]  n_estimators=560, min_samples_split=5, max_depth=30, total=   3.9s\n",
      "[CV] n_estimators=560, min_samples_split=5, max_depth=30 .............\n",
      "[CV]  n_estimators=560, min_samples_split=5, max_depth=30, total=   4.4s\n",
      "[CV] n_estimators=560, min_samples_split=5, max_depth=30 .............\n",
      "[CV]  n_estimators=560, min_samples_split=5, max_depth=30, total=   4.9s\n",
      "[CV] n_estimators=560, min_samples_split=5, max_depth=30 .............\n",
      "[CV]  n_estimators=560, min_samples_split=5, max_depth=30, total=   3.5s\n",
      "[CV] n_estimators=560, min_samples_split=5, max_depth=30 .............\n",
      "[CV]  n_estimators=560, min_samples_split=5, max_depth=30, total=   4.2s\n",
      "[CV] n_estimators=1000, min_samples_split=2, max_depth=None ..........\n",
      "[CV]  n_estimators=1000, min_samples_split=2, max_depth=None, total=   6.3s\n",
      "[CV] n_estimators=1000, min_samples_split=2, max_depth=None ..........\n",
      "[CV]  n_estimators=1000, min_samples_split=2, max_depth=None, total=   6.6s\n",
      "[CV] n_estimators=1000, min_samples_split=2, max_depth=None ..........\n",
      "[CV]  n_estimators=1000, min_samples_split=2, max_depth=None, total=   7.2s\n",
      "[CV] n_estimators=1000, min_samples_split=2, max_depth=None ..........\n",
      "[CV]  n_estimators=1000, min_samples_split=2, max_depth=None, total=   7.1s\n",
      "[CV] n_estimators=1000, min_samples_split=2, max_depth=None ..........\n",
      "[CV]  n_estimators=1000, min_samples_split=2, max_depth=None, total=   6.7s\n",
      "[CV] n_estimators=890, min_samples_split=10, max_depth=30 ............\n",
      "[CV]  n_estimators=890, min_samples_split=10, max_depth=30, total=   3.5s\n",
      "[CV] n_estimators=890, min_samples_split=10, max_depth=30 ............\n",
      "[CV]  n_estimators=890, min_samples_split=10, max_depth=30, total=   4.7s\n",
      "[CV] n_estimators=890, min_samples_split=10, max_depth=30 ............\n",
      "[CV]  n_estimators=890, min_samples_split=10, max_depth=30, total=   3.4s\n",
      "[CV] n_estimators=890, min_samples_split=10, max_depth=30 ............\n",
      "[CV]  n_estimators=890, min_samples_split=10, max_depth=30, total=   5.1s\n",
      "[CV] n_estimators=890, min_samples_split=10, max_depth=30 ............\n",
      "[CV]  n_estimators=890, min_samples_split=10, max_depth=30, total=   3.2s\n",
      "[CV] n_estimators=230, min_samples_split=2, max_depth=60 .............\n",
      "[CV]  n_estimators=230, min_samples_split=2, max_depth=60, total=   0.8s\n",
      "[CV] n_estimators=230, min_samples_split=2, max_depth=60 .............\n",
      "[CV]  n_estimators=230, min_samples_split=2, max_depth=60, total=   1.2s\n",
      "[CV] n_estimators=230, min_samples_split=2, max_depth=60 .............\n",
      "[CV]  n_estimators=230, min_samples_split=2, max_depth=60, total=   1.3s\n",
      "[CV] n_estimators=230, min_samples_split=2, max_depth=60 .............\n",
      "[CV]  n_estimators=230, min_samples_split=2, max_depth=60, total=   0.8s\n",
      "[CV] n_estimators=230, min_samples_split=2, max_depth=60 .............\n",
      "[CV]  n_estimators=230, min_samples_split=2, max_depth=60, total=   0.8s\n",
      "[CV] n_estimators=120, min_samples_split=10, max_depth=10 ............\n",
      "[CV]  n_estimators=120, min_samples_split=10, max_depth=10, total=   0.3s\n",
      "[CV] n_estimators=120, min_samples_split=10, max_depth=10 ............\n",
      "[CV]  n_estimators=120, min_samples_split=10, max_depth=10, total=   0.4s\n",
      "[CV] n_estimators=120, min_samples_split=10, max_depth=10 ............\n",
      "[CV]  n_estimators=120, min_samples_split=10, max_depth=10, total=   0.4s\n",
      "[CV] n_estimators=120, min_samples_split=10, max_depth=10 ............\n",
      "[CV]  n_estimators=120, min_samples_split=10, max_depth=10, total=   0.4s\n",
      "[CV] n_estimators=120, min_samples_split=10, max_depth=10 ............\n",
      "[CV]  n_estimators=120, min_samples_split=10, max_depth=10, total=   0.4s\n",
      "[CV] n_estimators=780, min_samples_split=5, max_depth=80 .............\n",
      "[CV]  n_estimators=780, min_samples_split=5, max_depth=80, total=   2.5s\n",
      "[CV] n_estimators=780, min_samples_split=5, max_depth=80 .............\n",
      "[CV]  n_estimators=780, min_samples_split=5, max_depth=80, total=   2.4s\n",
      "[CV] n_estimators=780, min_samples_split=5, max_depth=80 .............\n",
      "[CV]  n_estimators=780, min_samples_split=5, max_depth=80, total=   2.4s\n",
      "[CV] n_estimators=780, min_samples_split=5, max_depth=80 .............\n",
      "[CV]  n_estimators=780, min_samples_split=5, max_depth=80, total=   2.4s\n",
      "[CV] n_estimators=780, min_samples_split=5, max_depth=80 .............\n",
      "[CV]  n_estimators=780, min_samples_split=5, max_depth=80, total=   3.1s\n",
      "[CV] n_estimators=670, min_samples_split=2, max_depth=40 .............\n",
      "[CV]  n_estimators=670, min_samples_split=2, max_depth=40, total=   3.7s\n",
      "[CV] n_estimators=670, min_samples_split=2, max_depth=40 .............\n",
      "[CV]  n_estimators=670, min_samples_split=2, max_depth=40, total=   2.6s\n",
      "[CV] n_estimators=670, min_samples_split=2, max_depth=40 .............\n",
      "[CV]  n_estimators=670, min_samples_split=2, max_depth=40, total=   3.4s\n",
      "[CV] n_estimators=670, min_samples_split=2, max_depth=40 .............\n",
      "[CV]  n_estimators=670, min_samples_split=2, max_depth=40, total=   2.1s\n",
      "[CV] n_estimators=670, min_samples_split=2, max_depth=40 .............\n",
      "[CV]  n_estimators=670, min_samples_split=2, max_depth=40, total=   2.0s\n",
      "[CV] n_estimators=120, min_samples_split=2, max_depth=10 .............\n",
      "[CV]  n_estimators=120, min_samples_split=2, max_depth=10, total=   0.4s\n",
      "[CV] n_estimators=120, min_samples_split=2, max_depth=10 .............\n",
      "[CV]  n_estimators=120, min_samples_split=2, max_depth=10, total=   0.6s\n",
      "[CV] n_estimators=120, min_samples_split=2, max_depth=10 .............\n",
      "[CV]  n_estimators=120, min_samples_split=2, max_depth=10, total=   0.5s\n",
      "[CV] n_estimators=120, min_samples_split=2, max_depth=10 .............\n",
      "[CV]  n_estimators=120, min_samples_split=2, max_depth=10, total=   0.5s\n",
      "[CV] n_estimators=120, min_samples_split=2, max_depth=10 .............\n",
      "[CV]  n_estimators=120, min_samples_split=2, max_depth=10, total=   0.4s\n",
      "[CV] n_estimators=890, min_samples_split=2, max_depth=50 .............\n",
      "[CV]  n_estimators=890, min_samples_split=2, max_depth=50, total=   2.8s\n",
      "[CV] n_estimators=890, min_samples_split=2, max_depth=50 .............\n",
      "[CV]  n_estimators=890, min_samples_split=2, max_depth=50, total=   3.3s\n",
      "[CV] n_estimators=890, min_samples_split=2, max_depth=50 .............\n",
      "[CV]  n_estimators=890, min_samples_split=2, max_depth=50, total=   3.0s\n",
      "[CV] n_estimators=890, min_samples_split=2, max_depth=50 .............\n",
      "[CV]  n_estimators=890, min_samples_split=2, max_depth=50, total=   2.8s\n",
      "[CV] n_estimators=890, min_samples_split=2, max_depth=50 .............\n",
      "[CV]  n_estimators=890, min_samples_split=2, max_depth=50, total=   3.5s\n",
      "[CV] n_estimators=10, min_samples_split=10, max_depth=30 .............\n",
      "[CV]  n_estimators=10, min_samples_split=10, max_depth=30, total=   0.0s\n",
      "[CV] n_estimators=10, min_samples_split=10, max_depth=30 .............\n",
      "[CV]  n_estimators=10, min_samples_split=10, max_depth=30, total=   0.0s\n",
      "[CV] n_estimators=10, min_samples_split=10, max_depth=30 .............\n",
      "[CV]  n_estimators=10, min_samples_split=10, max_depth=30, total=   0.1s\n",
      "[CV] n_estimators=10, min_samples_split=10, max_depth=30 .............\n",
      "[CV]  n_estimators=10, min_samples_split=10, max_depth=30, total=   0.1s\n",
      "[CV] n_estimators=10, min_samples_split=10, max_depth=30 .............\n",
      "[CV]  n_estimators=10, min_samples_split=10, max_depth=30, total=   0.1s\n",
      "[CV] n_estimators=890, min_samples_split=2, max_depth=40 .............\n",
      "[CV]  n_estimators=890, min_samples_split=2, max_depth=40, total=   3.1s\n",
      "[CV] n_estimators=890, min_samples_split=2, max_depth=40 .............\n",
      "[CV]  n_estimators=890, min_samples_split=2, max_depth=40, total=   2.9s\n",
      "[CV] n_estimators=890, min_samples_split=2, max_depth=40 .............\n",
      "[CV]  n_estimators=890, min_samples_split=2, max_depth=40, total=   3.3s\n",
      "[CV] n_estimators=890, min_samples_split=2, max_depth=40 .............\n"
     ]
    },
    {
     "name": "stdout",
     "output_type": "stream",
     "text": [
      "[CV]  n_estimators=890, min_samples_split=2, max_depth=40, total=   3.6s\n",
      "[CV] n_estimators=890, min_samples_split=2, max_depth=40 .............\n",
      "[CV]  n_estimators=890, min_samples_split=2, max_depth=40, total=   3.4s\n",
      "[CV] n_estimators=560, min_samples_split=5, max_depth=80 .............\n",
      "[CV]  n_estimators=560, min_samples_split=5, max_depth=80, total=   2.6s\n",
      "[CV] n_estimators=560, min_samples_split=5, max_depth=80 .............\n",
      "[CV]  n_estimators=560, min_samples_split=5, max_depth=80, total=   2.4s\n",
      "[CV] n_estimators=560, min_samples_split=5, max_depth=80 .............\n",
      "[CV]  n_estimators=560, min_samples_split=5, max_depth=80, total=   2.0s\n",
      "[CV] n_estimators=560, min_samples_split=5, max_depth=80 .............\n",
      "[CV]  n_estimators=560, min_samples_split=5, max_depth=80, total=   1.9s\n",
      "[CV] n_estimators=560, min_samples_split=5, max_depth=80 .............\n",
      "[CV]  n_estimators=560, min_samples_split=5, max_depth=80, total=   2.1s\n",
      "[CV] n_estimators=780, min_samples_split=10, max_depth=50 ............\n",
      "[CV]  n_estimators=780, min_samples_split=10, max_depth=50, total=   2.5s\n",
      "[CV] n_estimators=780, min_samples_split=10, max_depth=50 ............\n",
      "[CV]  n_estimators=780, min_samples_split=10, max_depth=50, total=   2.4s\n",
      "[CV] n_estimators=780, min_samples_split=10, max_depth=50 ............\n",
      "[CV]  n_estimators=780, min_samples_split=10, max_depth=50, total=   2.5s\n",
      "[CV] n_estimators=780, min_samples_split=10, max_depth=50 ............\n",
      "[CV]  n_estimators=780, min_samples_split=10, max_depth=50, total=   2.4s\n",
      "[CV] n_estimators=780, min_samples_split=10, max_depth=50 ............\n",
      "[CV]  n_estimators=780, min_samples_split=10, max_depth=50, total=   2.1s\n",
      "[CV] n_estimators=450, min_samples_split=5, max_depth=80 .............\n",
      "[CV]  n_estimators=450, min_samples_split=5, max_depth=80, total=   1.3s\n",
      "[CV] n_estimators=450, min_samples_split=5, max_depth=80 .............\n",
      "[CV]  n_estimators=450, min_samples_split=5, max_depth=80, total=   1.0s\n",
      "[CV] n_estimators=450, min_samples_split=5, max_depth=80 .............\n",
      "[CV]  n_estimators=450, min_samples_split=5, max_depth=80, total=   1.3s\n",
      "[CV] n_estimators=450, min_samples_split=5, max_depth=80 .............\n",
      "[CV]  n_estimators=450, min_samples_split=5, max_depth=80, total=   1.2s\n",
      "[CV] n_estimators=450, min_samples_split=5, max_depth=80 .............\n",
      "[CV]  n_estimators=450, min_samples_split=5, max_depth=80, total=   1.2s\n",
      "[CV] n_estimators=120, min_samples_split=10, max_depth=60 ............\n",
      "[CV]  n_estimators=120, min_samples_split=10, max_depth=60, total=   0.3s\n",
      "[CV] n_estimators=120, min_samples_split=10, max_depth=60 ............\n",
      "[CV]  n_estimators=120, min_samples_split=10, max_depth=60, total=   0.3s\n",
      "[CV] n_estimators=120, min_samples_split=10, max_depth=60 ............\n",
      "[CV]  n_estimators=120, min_samples_split=10, max_depth=60, total=   0.3s\n",
      "[CV] n_estimators=120, min_samples_split=10, max_depth=60 ............\n",
      "[CV]  n_estimators=120, min_samples_split=10, max_depth=60, total=   0.4s\n",
      "[CV] n_estimators=120, min_samples_split=10, max_depth=60 ............\n",
      "[CV]  n_estimators=120, min_samples_split=10, max_depth=60, total=   0.4s\n",
      "[CV] n_estimators=780, min_samples_split=2, max_depth=10 .............\n",
      "[CV]  n_estimators=780, min_samples_split=2, max_depth=10, total=   2.2s\n",
      "[CV] n_estimators=780, min_samples_split=2, max_depth=10 .............\n",
      "[CV]  n_estimators=780, min_samples_split=2, max_depth=10, total=   2.3s\n",
      "[CV] n_estimators=780, min_samples_split=2, max_depth=10 .............\n",
      "[CV]  n_estimators=780, min_samples_split=2, max_depth=10, total=   2.2s\n",
      "[CV] n_estimators=780, min_samples_split=2, max_depth=10 .............\n",
      "[CV]  n_estimators=780, min_samples_split=2, max_depth=10, total=   2.0s\n",
      "[CV] n_estimators=780, min_samples_split=2, max_depth=10 .............\n",
      "[CV]  n_estimators=780, min_samples_split=2, max_depth=10, total=   1.7s\n",
      "[CV] n_estimators=890, min_samples_split=10, max_depth=70 ............\n",
      "[CV]  n_estimators=890, min_samples_split=10, max_depth=70, total=   2.1s\n",
      "[CV] n_estimators=890, min_samples_split=10, max_depth=70 ............\n",
      "[CV]  n_estimators=890, min_samples_split=10, max_depth=70, total=   2.3s\n",
      "[CV] n_estimators=890, min_samples_split=10, max_depth=70 ............\n",
      "[CV]  n_estimators=890, min_samples_split=10, max_depth=70, total=   2.6s\n",
      "[CV] n_estimators=890, min_samples_split=10, max_depth=70 ............\n",
      "[CV]  n_estimators=890, min_samples_split=10, max_depth=70, total=   2.0s\n",
      "[CV] n_estimators=890, min_samples_split=10, max_depth=70 ............\n",
      "[CV]  n_estimators=890, min_samples_split=10, max_depth=70, total=   2.6s\n",
      "[CV] n_estimators=890, min_samples_split=5, max_depth=70 .............\n",
      "[CV]  n_estimators=890, min_samples_split=5, max_depth=70, total=   2.5s\n",
      "[CV] n_estimators=890, min_samples_split=5, max_depth=70 .............\n",
      "[CV]  n_estimators=890, min_samples_split=5, max_depth=70, total=   2.3s\n",
      "[CV] n_estimators=890, min_samples_split=5, max_depth=70 .............\n",
      "[CV]  n_estimators=890, min_samples_split=5, max_depth=70, total=   2.2s\n",
      "[CV] n_estimators=890, min_samples_split=5, max_depth=70 .............\n",
      "[CV]  n_estimators=890, min_samples_split=5, max_depth=70, total=   2.1s\n",
      "[CV] n_estimators=890, min_samples_split=5, max_depth=70 .............\n",
      "[CV]  n_estimators=890, min_samples_split=5, max_depth=70, total=   2.4s\n",
      "[CV] n_estimators=120, min_samples_split=10, max_depth=70 ............\n",
      "[CV]  n_estimators=120, min_samples_split=10, max_depth=70, total=   0.3s\n",
      "[CV] n_estimators=120, min_samples_split=10, max_depth=70 ............\n",
      "[CV]  n_estimators=120, min_samples_split=10, max_depth=70, total=   0.3s\n",
      "[CV] n_estimators=120, min_samples_split=10, max_depth=70 ............\n",
      "[CV]  n_estimators=120, min_samples_split=10, max_depth=70, total=   0.4s\n",
      "[CV] n_estimators=120, min_samples_split=10, max_depth=70 ............\n",
      "[CV]  n_estimators=120, min_samples_split=10, max_depth=70, total=   0.3s\n",
      "[CV] n_estimators=120, min_samples_split=10, max_depth=70 ............\n",
      "[CV]  n_estimators=120, min_samples_split=10, max_depth=70, total=   0.3s\n",
      "[CV] n_estimators=670, min_samples_split=10, max_depth=20 ............\n",
      "[CV]  n_estimators=670, min_samples_split=10, max_depth=20, total=   2.0s\n",
      "[CV] n_estimators=670, min_samples_split=10, max_depth=20 ............\n",
      "[CV]  n_estimators=670, min_samples_split=10, max_depth=20, total=   2.0s\n",
      "[CV] n_estimators=670, min_samples_split=10, max_depth=20 ............\n",
      "[CV]  n_estimators=670, min_samples_split=10, max_depth=20, total=   2.3s\n",
      "[CV] n_estimators=670, min_samples_split=10, max_depth=20 ............\n",
      "[CV]  n_estimators=670, min_samples_split=10, max_depth=20, total=   2.4s\n",
      "[CV] n_estimators=670, min_samples_split=10, max_depth=20 ............\n",
      "[CV]  n_estimators=670, min_samples_split=10, max_depth=20, total=   2.3s\n",
      "[CV] n_estimators=340, min_samples_split=5, max_depth=60 .............\n",
      "[CV]  n_estimators=340, min_samples_split=5, max_depth=60, total=   1.1s\n",
      "[CV] n_estimators=340, min_samples_split=5, max_depth=60 .............\n",
      "[CV]  n_estimators=340, min_samples_split=5, max_depth=60, total=   1.2s\n",
      "[CV] n_estimators=340, min_samples_split=5, max_depth=60 .............\n",
      "[CV]  n_estimators=340, min_samples_split=5, max_depth=60, total=   1.7s\n",
      "[CV] n_estimators=340, min_samples_split=5, max_depth=60 .............\n",
      "[CV]  n_estimators=340, min_samples_split=5, max_depth=60, total=   1.0s\n",
      "[CV] n_estimators=340, min_samples_split=5, max_depth=60 .............\n",
      "[CV]  n_estimators=340, min_samples_split=5, max_depth=60, total=   0.7s\n",
      "[CV] n_estimators=120, min_samples_split=5, max_depth=60 .............\n",
      "[CV]  n_estimators=120, min_samples_split=5, max_depth=60, total=   0.3s\n",
      "[CV] n_estimators=120, min_samples_split=5, max_depth=60 .............\n",
      "[CV]  n_estimators=120, min_samples_split=5, max_depth=60, total=   0.3s\n",
      "[CV] n_estimators=120, min_samples_split=5, max_depth=60 .............\n",
      "[CV]  n_estimators=120, min_samples_split=5, max_depth=60, total=   0.3s\n",
      "[CV] n_estimators=120, min_samples_split=5, max_depth=60 .............\n",
      "[CV]  n_estimators=120, min_samples_split=5, max_depth=60, total=   0.3s\n",
      "[CV] n_estimators=120, min_samples_split=5, max_depth=60 .............\n",
      "[CV]  n_estimators=120, min_samples_split=5, max_depth=60, total=   0.3s\n",
      "[CV] n_estimators=780, min_samples_split=2, max_depth=60 .............\n"
     ]
    },
    {
     "name": "stdout",
     "output_type": "stream",
     "text": [
      "[CV]  n_estimators=780, min_samples_split=2, max_depth=60, total=   1.7s\n",
      "[CV] n_estimators=780, min_samples_split=2, max_depth=60 .............\n",
      "[CV]  n_estimators=780, min_samples_split=2, max_depth=60, total=   1.8s\n",
      "[CV] n_estimators=780, min_samples_split=2, max_depth=60 .............\n",
      "[CV]  n_estimators=780, min_samples_split=2, max_depth=60, total=   2.0s\n",
      "[CV] n_estimators=780, min_samples_split=2, max_depth=60 .............\n",
      "[CV]  n_estimators=780, min_samples_split=2, max_depth=60, total=   1.8s\n",
      "[CV] n_estimators=780, min_samples_split=2, max_depth=60 .............\n",
      "[CV]  n_estimators=780, min_samples_split=2, max_depth=60, total=   1.9s\n",
      "[CV] n_estimators=340, min_samples_split=5, max_depth=110 ............\n",
      "[CV]  n_estimators=340, min_samples_split=5, max_depth=110, total=   2.6s\n",
      "[CV] n_estimators=340, min_samples_split=5, max_depth=110 ............\n",
      "[CV]  n_estimators=340, min_samples_split=5, max_depth=110, total=   1.8s\n",
      "[CV] n_estimators=340, min_samples_split=5, max_depth=110 ............\n",
      "[CV]  n_estimators=340, min_samples_split=5, max_depth=110, total=   1.0s\n",
      "[CV] n_estimators=340, min_samples_split=5, max_depth=110 ............\n",
      "[CV]  n_estimators=340, min_samples_split=5, max_depth=110, total=   0.9s\n",
      "[CV] n_estimators=340, min_samples_split=5, max_depth=110 ............\n",
      "[CV]  n_estimators=340, min_samples_split=5, max_depth=110, total=   0.8s\n",
      "[CV] n_estimators=1000, min_samples_split=2, max_depth=110 ...........\n",
      "[CV]  n_estimators=1000, min_samples_split=2, max_depth=110, total=   2.6s\n",
      "[CV] n_estimators=1000, min_samples_split=2, max_depth=110 ...........\n",
      "[CV]  n_estimators=1000, min_samples_split=2, max_depth=110, total=   2.5s\n",
      "[CV] n_estimators=1000, min_samples_split=2, max_depth=110 ...........\n",
      "[CV]  n_estimators=1000, min_samples_split=2, max_depth=110, total=   2.6s\n",
      "[CV] n_estimators=1000, min_samples_split=2, max_depth=110 ...........\n",
      "[CV]  n_estimators=1000, min_samples_split=2, max_depth=110, total=   3.2s\n",
      "[CV] n_estimators=1000, min_samples_split=2, max_depth=110 ...........\n",
      "[CV]  n_estimators=1000, min_samples_split=2, max_depth=110, total=   3.0s\n",
      "[CV] n_estimators=10, min_samples_split=10, max_depth=20 .............\n",
      "[CV]  n_estimators=10, min_samples_split=10, max_depth=20, total=   0.0s\n",
      "[CV] n_estimators=10, min_samples_split=10, max_depth=20 .............\n",
      "[CV]  n_estimators=10, min_samples_split=10, max_depth=20, total=   0.0s\n",
      "[CV] n_estimators=10, min_samples_split=10, max_depth=20 .............\n",
      "[CV]  n_estimators=10, min_samples_split=10, max_depth=20, total=   0.0s\n",
      "[CV] n_estimators=10, min_samples_split=10, max_depth=20 .............\n",
      "[CV]  n_estimators=10, min_samples_split=10, max_depth=20, total=   0.0s\n",
      "[CV] n_estimators=10, min_samples_split=10, max_depth=20 .............\n",
      "[CV]  n_estimators=10, min_samples_split=10, max_depth=20, total=   0.0s\n",
      "[CV] n_estimators=450, min_samples_split=5, max_depth=70 .............\n",
      "[CV]  n_estimators=450, min_samples_split=5, max_depth=70, total=   1.4s\n",
      "[CV] n_estimators=450, min_samples_split=5, max_depth=70 .............\n",
      "[CV]  n_estimators=450, min_samples_split=5, max_depth=70, total=   1.1s\n",
      "[CV] n_estimators=450, min_samples_split=5, max_depth=70 .............\n",
      "[CV]  n_estimators=450, min_samples_split=5, max_depth=70, total=   1.1s\n",
      "[CV] n_estimators=450, min_samples_split=5, max_depth=70 .............\n",
      "[CV]  n_estimators=450, min_samples_split=5, max_depth=70, total=   1.1s\n",
      "[CV] n_estimators=450, min_samples_split=5, max_depth=70 .............\n",
      "[CV]  n_estimators=450, min_samples_split=5, max_depth=70, total=   1.1s\n",
      "[CV] n_estimators=340, min_samples_split=2, max_depth=80 .............\n",
      "[CV]  n_estimators=340, min_samples_split=2, max_depth=80, total=   0.8s\n",
      "[CV] n_estimators=340, min_samples_split=2, max_depth=80 .............\n",
      "[CV]  n_estimators=340, min_samples_split=2, max_depth=80, total=   0.8s\n",
      "[CV] n_estimators=340, min_samples_split=2, max_depth=80 .............\n",
      "[CV]  n_estimators=340, min_samples_split=2, max_depth=80, total=   0.9s\n",
      "[CV] n_estimators=340, min_samples_split=2, max_depth=80 .............\n",
      "[CV]  n_estimators=340, min_samples_split=2, max_depth=80, total=   1.0s\n",
      "[CV] n_estimators=340, min_samples_split=2, max_depth=80 .............\n",
      "[CV]  n_estimators=340, min_samples_split=2, max_depth=80, total=   1.0s\n",
      "[CV] n_estimators=780, min_samples_split=10, max_depth=110 ...........\n",
      "[CV]  n_estimators=780, min_samples_split=10, max_depth=110, total=   2.3s\n",
      "[CV] n_estimators=780, min_samples_split=10, max_depth=110 ...........\n",
      "[CV]  n_estimators=780, min_samples_split=10, max_depth=110, total=   2.2s\n",
      "[CV] n_estimators=780, min_samples_split=10, max_depth=110 ...........\n",
      "[CV]  n_estimators=780, min_samples_split=10, max_depth=110, total=   2.2s\n",
      "[CV] n_estimators=780, min_samples_split=10, max_depth=110 ...........\n",
      "[CV]  n_estimators=780, min_samples_split=10, max_depth=110, total=   1.9s\n",
      "[CV] n_estimators=780, min_samples_split=10, max_depth=110 ...........\n",
      "[CV]  n_estimators=780, min_samples_split=10, max_depth=110, total=   1.8s\n",
      "[CV] n_estimators=890, min_samples_split=2, max_depth=90 .............\n",
      "[CV]  n_estimators=890, min_samples_split=2, max_depth=90, total=   2.7s\n",
      "[CV] n_estimators=890, min_samples_split=2, max_depth=90 .............\n",
      "[CV]  n_estimators=890, min_samples_split=2, max_depth=90, total=   2.5s\n",
      "[CV] n_estimators=890, min_samples_split=2, max_depth=90 .............\n",
      "[CV]  n_estimators=890, min_samples_split=2, max_depth=90, total=   2.8s\n",
      "[CV] n_estimators=890, min_samples_split=2, max_depth=90 .............\n",
      "[CV]  n_estimators=890, min_samples_split=2, max_depth=90, total=   2.2s\n",
      "[CV] n_estimators=890, min_samples_split=2, max_depth=90 .............\n",
      "[CV]  n_estimators=890, min_samples_split=2, max_depth=90, total=   1.9s\n",
      "[CV] n_estimators=10, min_samples_split=10, max_depth=90 .............\n",
      "[CV]  n_estimators=10, min_samples_split=10, max_depth=90, total=   0.0s\n",
      "[CV] n_estimators=10, min_samples_split=10, max_depth=90 .............\n",
      "[CV]  n_estimators=10, min_samples_split=10, max_depth=90, total=   0.0s\n",
      "[CV] n_estimators=10, min_samples_split=10, max_depth=90 .............\n",
      "[CV]  n_estimators=10, min_samples_split=10, max_depth=90, total=   0.0s\n",
      "[CV] n_estimators=10, min_samples_split=10, max_depth=90 .............\n",
      "[CV]  n_estimators=10, min_samples_split=10, max_depth=90, total=   0.0s\n",
      "[CV] n_estimators=10, min_samples_split=10, max_depth=90 .............\n",
      "[CV]  n_estimators=10, min_samples_split=10, max_depth=90, total=   0.0s\n",
      "[CV] n_estimators=780, min_samples_split=2, max_depth=90 .............\n",
      "[CV]  n_estimators=780, min_samples_split=2, max_depth=90, total=   1.7s\n",
      "[CV] n_estimators=780, min_samples_split=2, max_depth=90 .............\n",
      "[CV]  n_estimators=780, min_samples_split=2, max_depth=90, total=   1.8s\n",
      "[CV] n_estimators=780, min_samples_split=2, max_depth=90 .............\n",
      "[CV]  n_estimators=780, min_samples_split=2, max_depth=90, total=   1.8s\n",
      "[CV] n_estimators=780, min_samples_split=2, max_depth=90 .............\n",
      "[CV]  n_estimators=780, min_samples_split=2, max_depth=90, total=   1.7s\n",
      "[CV] n_estimators=780, min_samples_split=2, max_depth=90 .............\n",
      "[CV]  n_estimators=780, min_samples_split=2, max_depth=90, total=   1.7s\n",
      "[CV] n_estimators=1000, min_samples_split=2, max_depth=70 ............\n",
      "[CV]  n_estimators=1000, min_samples_split=2, max_depth=70, total=   2.5s\n",
      "[CV] n_estimators=1000, min_samples_split=2, max_depth=70 ............\n",
      "[CV]  n_estimators=1000, min_samples_split=2, max_depth=70, total=   2.4s\n",
      "[CV] n_estimators=1000, min_samples_split=2, max_depth=70 ............\n",
      "[CV]  n_estimators=1000, min_samples_split=2, max_depth=70, total=   2.1s\n",
      "[CV] n_estimators=1000, min_samples_split=2, max_depth=70 ............\n",
      "[CV]  n_estimators=1000, min_samples_split=2, max_depth=70, total=   2.2s\n",
      "[CV] n_estimators=1000, min_samples_split=2, max_depth=70 ............\n",
      "[CV]  n_estimators=1000, min_samples_split=2, max_depth=70, total=   2.5s\n",
      "[CV] n_estimators=340, min_samples_split=5, max_depth=20 .............\n",
      "[CV]  n_estimators=340, min_samples_split=5, max_depth=20, total=   0.8s\n",
      "[CV] n_estimators=340, min_samples_split=5, max_depth=20 .............\n",
      "[CV]  n_estimators=340, min_samples_split=5, max_depth=20, total=   1.1s\n",
      "[CV] n_estimators=340, min_samples_split=5, max_depth=20 .............\n"
     ]
    },
    {
     "name": "stdout",
     "output_type": "stream",
     "text": [
      "[CV]  n_estimators=340, min_samples_split=5, max_depth=20, total=   1.0s\n",
      "[CV] n_estimators=340, min_samples_split=5, max_depth=20 .............\n",
      "[CV]  n_estimators=340, min_samples_split=5, max_depth=20, total=   0.7s\n",
      "[CV] n_estimators=340, min_samples_split=5, max_depth=20 .............\n",
      "[CV]  n_estimators=340, min_samples_split=5, max_depth=20, total=   0.8s\n",
      "[CV] n_estimators=890, min_samples_split=5, max_depth=30 .............\n",
      "[CV]  n_estimators=890, min_samples_split=5, max_depth=30, total=   2.2s\n",
      "[CV] n_estimators=890, min_samples_split=5, max_depth=30 .............\n",
      "[CV]  n_estimators=890, min_samples_split=5, max_depth=30, total=   2.0s\n",
      "[CV] n_estimators=890, min_samples_split=5, max_depth=30 .............\n",
      "[CV]  n_estimators=890, min_samples_split=5, max_depth=30, total=   1.9s\n",
      "[CV] n_estimators=890, min_samples_split=5, max_depth=30 .............\n",
      "[CV]  n_estimators=890, min_samples_split=5, max_depth=30, total=   2.1s\n",
      "[CV] n_estimators=890, min_samples_split=5, max_depth=30 .............\n",
      "[CV]  n_estimators=890, min_samples_split=5, max_depth=30, total=   2.1s\n",
      "[CV] n_estimators=450, min_samples_split=5, max_depth=60 .............\n",
      "[CV]  n_estimators=450, min_samples_split=5, max_depth=60, total=   1.2s\n",
      "[CV] n_estimators=450, min_samples_split=5, max_depth=60 .............\n",
      "[CV]  n_estimators=450, min_samples_split=5, max_depth=60, total=   1.1s\n",
      "[CV] n_estimators=450, min_samples_split=5, max_depth=60 .............\n",
      "[CV]  n_estimators=450, min_samples_split=5, max_depth=60, total=   1.1s\n",
      "[CV] n_estimators=450, min_samples_split=5, max_depth=60 .............\n",
      "[CV]  n_estimators=450, min_samples_split=5, max_depth=60, total=   1.1s\n",
      "[CV] n_estimators=450, min_samples_split=5, max_depth=60 .............\n",
      "[CV]  n_estimators=450, min_samples_split=5, max_depth=60, total=   1.1s\n",
      "[CV] n_estimators=1000, min_samples_split=2, max_depth=30 ............\n",
      "[CV]  n_estimators=1000, min_samples_split=2, max_depth=30, total=   4.6s\n",
      "[CV] n_estimators=1000, min_samples_split=2, max_depth=30 ............\n",
      "[CV]  n_estimators=1000, min_samples_split=2, max_depth=30, total=   3.6s\n",
      "[CV] n_estimators=1000, min_samples_split=2, max_depth=30 ............\n",
      "[CV]  n_estimators=1000, min_samples_split=2, max_depth=30, total=   2.5s\n",
      "[CV] n_estimators=1000, min_samples_split=2, max_depth=30 ............\n",
      "[CV]  n_estimators=1000, min_samples_split=2, max_depth=30, total=   2.5s\n",
      "[CV] n_estimators=1000, min_samples_split=2, max_depth=30 ............\n",
      "[CV]  n_estimators=1000, min_samples_split=2, max_depth=30, total=   2.6s\n",
      "[CV] n_estimators=340, min_samples_split=2, max_depth=None ...........\n",
      "[CV]  n_estimators=340, min_samples_split=2, max_depth=None, total=   1.0s\n",
      "[CV] n_estimators=340, min_samples_split=2, max_depth=None ...........\n",
      "[CV]  n_estimators=340, min_samples_split=2, max_depth=None, total=   1.1s\n",
      "[CV] n_estimators=340, min_samples_split=2, max_depth=None ...........\n",
      "[CV]  n_estimators=340, min_samples_split=2, max_depth=None, total=   0.9s\n",
      "[CV] n_estimators=340, min_samples_split=2, max_depth=None ...........\n",
      "[CV]  n_estimators=340, min_samples_split=2, max_depth=None, total=   0.8s\n",
      "[CV] n_estimators=340, min_samples_split=2, max_depth=None ...........\n",
      "[CV]  n_estimators=340, min_samples_split=2, max_depth=None, total=   0.8s\n",
      "[CV] n_estimators=450, min_samples_split=2, max_depth=70 .............\n",
      "[CV]  n_estimators=450, min_samples_split=2, max_depth=70, total=   1.2s\n",
      "[CV] n_estimators=450, min_samples_split=2, max_depth=70 .............\n",
      "[CV]  n_estimators=450, min_samples_split=2, max_depth=70, total=   1.1s\n",
      "[CV] n_estimators=450, min_samples_split=2, max_depth=70 .............\n",
      "[CV]  n_estimators=450, min_samples_split=2, max_depth=70, total=   1.1s\n",
      "[CV] n_estimators=450, min_samples_split=2, max_depth=70 .............\n",
      "[CV]  n_estimators=450, min_samples_split=2, max_depth=70, total=   1.1s\n",
      "[CV] n_estimators=450, min_samples_split=2, max_depth=70 .............\n",
      "[CV]  n_estimators=450, min_samples_split=2, max_depth=70, total=   1.1s\n",
      "[CV] n_estimators=450, min_samples_split=2, max_depth=30 .............\n",
      "[CV]  n_estimators=450, min_samples_split=2, max_depth=30, total=   1.1s\n",
      "[CV] n_estimators=450, min_samples_split=2, max_depth=30 .............\n",
      "[CV]  n_estimators=450, min_samples_split=2, max_depth=30, total=   1.0s\n",
      "[CV] n_estimators=450, min_samples_split=2, max_depth=30 .............\n",
      "[CV]  n_estimators=450, min_samples_split=2, max_depth=30, total=   1.2s\n",
      "[CV] n_estimators=450, min_samples_split=2, max_depth=30 .............\n",
      "[CV]  n_estimators=450, min_samples_split=2, max_depth=30, total=   1.1s\n",
      "[CV] n_estimators=450, min_samples_split=2, max_depth=30 .............\n",
      "[CV]  n_estimators=450, min_samples_split=2, max_depth=30, total=   1.2s\n",
      "[CV] n_estimators=560, min_samples_split=5, max_depth=None ...........\n",
      "[CV]  n_estimators=560, min_samples_split=5, max_depth=None, total=   1.4s\n",
      "[CV] n_estimators=560, min_samples_split=5, max_depth=None ...........\n",
      "[CV]  n_estimators=560, min_samples_split=5, max_depth=None, total=   1.6s\n",
      "[CV] n_estimators=560, min_samples_split=5, max_depth=None ...........\n",
      "[CV]  n_estimators=560, min_samples_split=5, max_depth=None, total=   1.3s\n",
      "[CV] n_estimators=560, min_samples_split=5, max_depth=None ...........\n",
      "[CV]  n_estimators=560, min_samples_split=5, max_depth=None, total=   1.3s\n",
      "[CV] n_estimators=560, min_samples_split=5, max_depth=None ...........\n",
      "[CV]  n_estimators=560, min_samples_split=5, max_depth=None, total=   1.3s\n",
      "[CV] n_estimators=1000, min_samples_split=5, max_depth=80 ............\n",
      "[CV]  n_estimators=1000, min_samples_split=5, max_depth=80, total=   2.7s\n",
      "[CV] n_estimators=1000, min_samples_split=5, max_depth=80 ............\n",
      "[CV]  n_estimators=1000, min_samples_split=5, max_depth=80, total=   2.5s\n",
      "[CV] n_estimators=1000, min_samples_split=5, max_depth=80 ............\n",
      "[CV]  n_estimators=1000, min_samples_split=5, max_depth=80, total=   2.5s\n",
      "[CV] n_estimators=1000, min_samples_split=5, max_depth=80 ............\n",
      "[CV]  n_estimators=1000, min_samples_split=5, max_depth=80, total=   2.1s\n",
      "[CV] n_estimators=1000, min_samples_split=5, max_depth=80 ............\n",
      "[CV]  n_estimators=1000, min_samples_split=5, max_depth=80, total=   2.5s\n",
      "[CV] n_estimators=560, min_samples_split=2, max_depth=10 .............\n",
      "[CV]  n_estimators=560, min_samples_split=2, max_depth=10, total=   1.2s\n",
      "[CV] n_estimators=560, min_samples_split=2, max_depth=10 .............\n",
      "[CV]  n_estimators=560, min_samples_split=2, max_depth=10, total=   1.4s\n",
      "[CV] n_estimators=560, min_samples_split=2, max_depth=10 .............\n",
      "[CV]  n_estimators=560, min_samples_split=2, max_depth=10, total=   1.2s\n",
      "[CV] n_estimators=560, min_samples_split=2, max_depth=10 .............\n",
      "[CV]  n_estimators=560, min_samples_split=2, max_depth=10, total=   1.2s\n",
      "[CV] n_estimators=560, min_samples_split=2, max_depth=10 .............\n",
      "[CV]  n_estimators=560, min_samples_split=2, max_depth=10, total=   1.3s\n",
      "[CV] n_estimators=230, min_samples_split=5, max_depth=60 .............\n",
      "[CV]  n_estimators=230, min_samples_split=5, max_depth=60, total=   0.6s\n",
      "[CV] n_estimators=230, min_samples_split=5, max_depth=60 .............\n",
      "[CV]  n_estimators=230, min_samples_split=5, max_depth=60, total=   0.5s\n",
      "[CV] n_estimators=230, min_samples_split=5, max_depth=60 .............\n",
      "[CV]  n_estimators=230, min_samples_split=5, max_depth=60, total=   0.5s\n",
      "[CV] n_estimators=230, min_samples_split=5, max_depth=60 .............\n",
      "[CV]  n_estimators=230, min_samples_split=5, max_depth=60, total=   0.5s\n",
      "[CV] n_estimators=230, min_samples_split=5, max_depth=60 .............\n",
      "[CV]  n_estimators=230, min_samples_split=5, max_depth=60, total=   0.5s\n",
      "[CV] n_estimators=340, min_samples_split=10, max_depth=100 ...........\n",
      "[CV]  n_estimators=340, min_samples_split=10, max_depth=100, total=   0.8s\n",
      "[CV] n_estimators=340, min_samples_split=10, max_depth=100 ...........\n",
      "[CV]  n_estimators=340, min_samples_split=10, max_depth=100, total=   0.8s\n",
      "[CV] n_estimators=340, min_samples_split=10, max_depth=100 ...........\n",
      "[CV]  n_estimators=340, min_samples_split=10, max_depth=100, total=   1.2s\n",
      "[CV] n_estimators=340, min_samples_split=10, max_depth=100 ...........\n",
      "[CV]  n_estimators=340, min_samples_split=10, max_depth=100, total=   1.5s\n",
      "[CV] n_estimators=340, min_samples_split=10, max_depth=100 ...........\n"
     ]
    },
    {
     "name": "stdout",
     "output_type": "stream",
     "text": [
      "[CV]  n_estimators=340, min_samples_split=10, max_depth=100, total=   1.5s\n",
      "[CV] n_estimators=340, min_samples_split=2, max_depth=60 .............\n",
      "[CV]  n_estimators=340, min_samples_split=2, max_depth=60, total=   1.4s\n",
      "[CV] n_estimators=340, min_samples_split=2, max_depth=60 .............\n",
      "[CV]  n_estimators=340, min_samples_split=2, max_depth=60, total=   1.1s\n",
      "[CV] n_estimators=340, min_samples_split=2, max_depth=60 .............\n",
      "[CV]  n_estimators=340, min_samples_split=2, max_depth=60, total=   1.0s\n",
      "[CV] n_estimators=340, min_samples_split=2, max_depth=60 .............\n",
      "[CV]  n_estimators=340, min_samples_split=2, max_depth=60, total=   1.0s\n",
      "[CV] n_estimators=340, min_samples_split=2, max_depth=60 .............\n",
      "[CV]  n_estimators=340, min_samples_split=2, max_depth=60, total=   0.9s\n",
      "[CV] n_estimators=670, min_samples_split=2, max_depth=90 .............\n",
      "[CV]  n_estimators=670, min_samples_split=2, max_depth=90, total=   1.9s\n",
      "[CV] n_estimators=670, min_samples_split=2, max_depth=90 .............\n",
      "[CV]  n_estimators=670, min_samples_split=2, max_depth=90, total=   1.9s\n",
      "[CV] n_estimators=670, min_samples_split=2, max_depth=90 .............\n",
      "[CV]  n_estimators=670, min_samples_split=2, max_depth=90, total=   2.0s\n",
      "[CV] n_estimators=670, min_samples_split=2, max_depth=90 .............\n",
      "[CV]  n_estimators=670, min_samples_split=2, max_depth=90, total=   1.9s\n",
      "[CV] n_estimators=670, min_samples_split=2, max_depth=90 .............\n",
      "[CV]  n_estimators=670, min_samples_split=2, max_depth=90, total=   1.8s\n",
      "[CV] n_estimators=120, min_samples_split=10, max_depth=80 ............\n",
      "[CV]  n_estimators=120, min_samples_split=10, max_depth=80, total=   0.4s\n",
      "[CV] n_estimators=120, min_samples_split=10, max_depth=80 ............\n",
      "[CV]  n_estimators=120, min_samples_split=10, max_depth=80, total=   0.5s\n",
      "[CV] n_estimators=120, min_samples_split=10, max_depth=80 ............\n",
      "[CV]  n_estimators=120, min_samples_split=10, max_depth=80, total=   0.4s\n",
      "[CV] n_estimators=120, min_samples_split=10, max_depth=80 ............\n",
      "[CV]  n_estimators=120, min_samples_split=10, max_depth=80, total=   0.4s\n",
      "[CV] n_estimators=120, min_samples_split=10, max_depth=80 ............\n",
      "[CV]  n_estimators=120, min_samples_split=10, max_depth=80, total=   0.3s\n",
      "[CV] n_estimators=230, min_samples_split=5, max_depth=100 ............\n",
      "[CV]  n_estimators=230, min_samples_split=5, max_depth=100, total=   0.6s\n",
      "[CV] n_estimators=230, min_samples_split=5, max_depth=100 ............\n",
      "[CV]  n_estimators=230, min_samples_split=5, max_depth=100, total=   0.6s\n",
      "[CV] n_estimators=230, min_samples_split=5, max_depth=100 ............\n",
      "[CV]  n_estimators=230, min_samples_split=5, max_depth=100, total=   0.6s\n",
      "[CV] n_estimators=230, min_samples_split=5, max_depth=100 ............\n",
      "[CV]  n_estimators=230, min_samples_split=5, max_depth=100, total=   0.7s\n",
      "[CV] n_estimators=230, min_samples_split=5, max_depth=100 ............\n",
      "[CV]  n_estimators=230, min_samples_split=5, max_depth=100, total=   0.7s\n"
     ]
    },
    {
     "name": "stderr",
     "output_type": "stream",
     "text": [
      "[Parallel(n_jobs=1)]: Done 250 out of 250 | elapsed:  7.2min finished\n"
     ]
    },
    {
     "data": {
      "text/plain": [
       "RandomizedSearchCV(cv=5, estimator=RandomForestClassifier(random_state=100),\n",
       "                   n_iter=50,\n",
       "                   param_distributions={'max_depth': [10, 20, 30, 40, 50, 60,\n",
       "                                                      70, 80, 90, 100, 110,\n",
       "                                                      None],\n",
       "                                        'min_samples_split': [2, 5, 10],\n",
       "                                        'n_estimators': [10, 120, 230, 340, 450,\n",
       "                                                         560, 670, 780, 890,\n",
       "                                                         1000]},\n",
       "                   random_state=100, verbose=2)"
      ]
     },
     "execution_count": 75,
     "metadata": {},
     "output_type": "execute_result"
    }
   ],
   "source": [
    "rf_random = RandomizedSearchCV(\n",
    "    estimator=rf_rs, param_distributions=random_grid1, n_iter=50, cv=5, verbose=2, random_state=100)\n",
    "# Fit the random search model\n",
    "rf_random.fit(xtrain, ytrain)"
   ]
  },
  {
   "cell_type": "markdown",
   "metadata": {},
   "source": [
    "**Selecting the best classifier**"
   ]
  },
  {
   "cell_type": "code",
   "execution_count": 76,
   "metadata": {},
   "outputs": [
    {
     "data": {
      "text/plain": [
       "RandomForestClassifier(max_depth=30, min_samples_split=10, n_estimators=10,\n",
       "                       random_state=100)"
      ]
     },
     "execution_count": 76,
     "metadata": {},
     "output_type": "execute_result"
    }
   ],
   "source": [
    "rf_random.best_estimator_"
   ]
  },
  {
   "cell_type": "code",
   "execution_count": 77,
   "metadata": {},
   "outputs": [],
   "source": [
    "clf_rf_rand = rf_random.best_estimator_"
   ]
  },
  {
   "cell_type": "code",
   "execution_count": 78,
   "metadata": {},
   "outputs": [
    {
     "data": {
      "text/plain": [
       "RandomForestClassifier(max_depth=30, min_samples_split=10, n_estimators=10,\n",
       "                       random_state=100)"
      ]
     },
     "execution_count": 78,
     "metadata": {},
     "output_type": "execute_result"
    }
   ],
   "source": [
    "clf_rf_rand.fit(xtrain, ytrain)"
   ]
  },
  {
   "cell_type": "code",
   "execution_count": 79,
   "metadata": {},
   "outputs": [],
   "source": [
    "pred_rf_rand = clf_rf_rand.predict(xtest)"
   ]
  },
  {
   "cell_type": "code",
   "execution_count": 80,
   "metadata": {},
   "outputs": [],
   "source": [
    "prb_rf_rand = clf_rf_rand.predict_proba(xtest)[:, 1]"
   ]
  },
  {
   "cell_type": "markdown",
   "metadata": {},
   "source": [
    "### Task 20: Find the Accuracy of Tuned Random Forest through Randomized Search"
   ]
  },
  {
   "cell_type": "code",
   "execution_count": 81,
   "metadata": {},
   "outputs": [
    {
     "data": {
      "text/plain": [
       "0.8395522388059702"
      ]
     },
     "execution_count": 81,
     "metadata": {},
     "output_type": "execute_result"
    }
   ],
   "source": [
    "# write code here\n",
    "accuracy_rf_r = accuracy_score (ytest, pred_rf_rand)\n",
    "accuracy_rf_r"
   ]
  },
  {
   "cell_type": "markdown",
   "metadata": {},
   "source": [
    "### Task 21: Find the Precision of Tuned Random Forest through Randomized Search"
   ]
  },
  {
   "cell_type": "code",
   "execution_count": 82,
   "metadata": {},
   "outputs": [
    {
     "data": {
      "text/plain": [
       "0.7523809523809524"
      ]
     },
     "execution_count": 82,
     "metadata": {},
     "output_type": "execute_result"
    }
   ],
   "source": [
    "# write code here\n",
    "precision_rf_r = precision_score (ytest, pred_rf_rand)\n",
    "precision_rf_r"
   ]
  },
  {
   "cell_type": "markdown",
   "metadata": {},
   "source": [
    "### Task 22: Find the Recall of Tuned Random Forest through Randomized Search"
   ]
  },
  {
   "cell_type": "code",
   "execution_count": 83,
   "metadata": {},
   "outputs": [
    {
     "data": {
      "text/plain": [
       "0.8229166666666666"
      ]
     },
     "execution_count": 83,
     "metadata": {},
     "output_type": "execute_result"
    }
   ],
   "source": [
    "# write code here\n",
    "recall_rf_r = recall_score (ytest, pred_rf_rand)\n",
    "recall_rf_r"
   ]
  },
  {
   "cell_type": "markdown",
   "metadata": {},
   "source": [
    "### Task 23: Find the F1-Score of Tuned Random Forest through Randomized Search"
   ]
  },
  {
   "cell_type": "code",
   "execution_count": 84,
   "metadata": {},
   "outputs": [
    {
     "data": {
      "text/plain": [
       "0.7860696517412935"
      ]
     },
     "execution_count": 84,
     "metadata": {},
     "output_type": "execute_result"
    }
   ],
   "source": [
    "# write code here\n",
    "f1_rf_r = f1_score (ytest, pred_rf_rand)\n",
    "f1_rf_r"
   ]
  },
  {
   "cell_type": "markdown",
   "metadata": {},
   "source": [
    "### Task 24: Print the Classification Report of Tuned Random Forest through Randomized Search"
   ]
  },
  {
   "cell_type": "code",
   "execution_count": 85,
   "metadata": {},
   "outputs": [
    {
     "name": "stdout",
     "output_type": "stream",
     "text": [
      "              precision    recall  f1-score   support\n",
      "\n",
      "           0       0.90      0.85      0.87       172\n",
      "           1       0.75      0.82      0.79        96\n",
      "\n",
      "    accuracy                           0.84       268\n",
      "   macro avg       0.82      0.84      0.83       268\n",
      "weighted avg       0.84      0.84      0.84       268\n",
      "\n"
     ]
    }
   ],
   "source": [
    "# write code here\n",
    "print(classification_report(ytest, pred_rf_rand))"
   ]
  },
  {
   "cell_type": "markdown",
   "metadata": {},
   "source": [
    "### ROC Curve"
   ]
  },
  {
   "cell_type": "code",
   "execution_count": 86,
   "metadata": {},
   "outputs": [
    {
     "data": {
      "image/png": "[encoded data removed]",
      "text/plain": [
       "<Figure size 576x432 with 1 Axes>"
      ]
     },
     "metadata": {
      "needs_background": "light"
     },
     "output_type": "display_data"
    }
   ],
   "source": [
    "auc_rf_r = roc_auc_score(ytest, prb_rf_rand)\n",
    "fpr, tpr, threshold = roc_curve(ytest, prb_rf_rand)\n",
    "plot_roc_curve(fpr, tpr, label='AUC Tuned Random = %0.3f' % auc_rf_r)"
   ]
  },
  {
   "cell_type": "markdown",
   "metadata": {},
   "source": [
    "# Ada Boost"
   ]
  },
  {
   "cell_type": "code",
   "execution_count": 87,
   "metadata": {},
   "outputs": [],
   "source": [
    "from sklearn.ensemble import AdaBoostClassifier"
   ]
  },
  {
   "cell_type": "code",
   "execution_count": 88,
   "metadata": {},
   "outputs": [
    {
     "data": {
      "text/plain": [
       "AdaBoostClassifier(random_state=100)"
      ]
     },
     "execution_count": 88,
     "metadata": {},
     "output_type": "execute_result"
    }
   ],
   "source": [
    "clf_adb = AdaBoostClassifier(random_state=100)\n",
    "clf_adb.fit(xtrain, ytrain)"
   ]
  },
  {
   "cell_type": "code",
   "execution_count": 89,
   "metadata": {},
   "outputs": [],
   "source": [
    "pred_clf_adb = clf_adb.predict(xtest)"
   ]
  },
  {
   "cell_type": "code",
   "execution_count": 90,
   "metadata": {},
   "outputs": [],
   "source": [
    "adb_pred_prb = clf_adb.predict_proba(xtest)[:, 1]"
   ]
  },
  {
   "cell_type": "markdown",
   "metadata": {},
   "source": [
    "### Task 25: Find Accuracy for Ada Boost"
   ]
  },
  {
   "cell_type": "code",
   "execution_count": 91,
   "metadata": {},
   "outputs": [
    {
     "data": {
      "text/plain": [
       "0.8283582089552238"
      ]
     },
     "execution_count": 91,
     "metadata": {},
     "output_type": "execute_result"
    }
   ],
   "source": [
    "# write code here\n",
    "accuracy_adb = accuracy_score(ytest, pred_clf_adb)\n",
    "accuracy_adb"
   ]
  },
  {
   "cell_type": "markdown",
   "metadata": {},
   "source": [
    "### Task 26: Find Precision for Ada Boost"
   ]
  },
  {
   "cell_type": "code",
   "execution_count": 92,
   "metadata": {},
   "outputs": [
    {
     "data": {
      "text/plain": [
       "0.7272727272727273"
      ]
     },
     "execution_count": 92,
     "metadata": {},
     "output_type": "execute_result"
    }
   ],
   "source": [
    "# write code here\n",
    "precision_adb = precision_score(ytest, pred_clf_adb)\n",
    "precision_adb"
   ]
  },
  {
   "cell_type": "markdown",
   "metadata": {},
   "source": [
    "### Task 27: Find Recall for Ada Boost"
   ]
  },
  {
   "cell_type": "code",
   "execution_count": 93,
   "metadata": {},
   "outputs": [
    {
     "data": {
      "text/plain": [
       "0.8333333333333334"
      ]
     },
     "execution_count": 93,
     "metadata": {},
     "output_type": "execute_result"
    }
   ],
   "source": [
    "# write code here\n",
    "recall_adb = recall_score(ytest, pred_clf_adb)\n",
    "recall_adb"
   ]
  },
  {
   "cell_type": "markdown",
   "metadata": {},
   "source": [
    "### Task 28: Find F1 Score for Ada Boost"
   ]
  },
  {
   "cell_type": "code",
   "execution_count": 94,
   "metadata": {},
   "outputs": [
    {
     "data": {
      "text/plain": [
       "0.7766990291262137"
      ]
     },
     "execution_count": 94,
     "metadata": {},
     "output_type": "execute_result"
    }
   ],
   "source": [
    "# write code here\n",
    "f1_adb = f1_score(ytest, pred_clf_adb)\n",
    "f1_adb"
   ]
  },
  {
   "cell_type": "markdown",
   "metadata": {},
   "source": [
    "### Task 29: Print Classification Report for Ada Boost"
   ]
  },
  {
   "cell_type": "code",
   "execution_count": 95,
   "metadata": {},
   "outputs": [
    {
     "name": "stdout",
     "output_type": "stream",
     "text": [
      "              precision    recall  f1-score   support\n",
      "\n",
      "           0       0.90      0.83      0.86       172\n",
      "           1       0.73      0.83      0.78        96\n",
      "\n",
      "    accuracy                           0.83       268\n",
      "   macro avg       0.81      0.83      0.82       268\n",
      "weighted avg       0.84      0.83      0.83       268\n",
      "\n"
     ]
    }
   ],
   "source": [
    "# write code here\n",
    "print(classification_report(ytest, pred_clf_adb))"
   ]
  },
  {
   "cell_type": "markdown",
   "metadata": {},
   "source": [
    "### ROC Curve"
   ]
  },
  {
   "cell_type": "code",
   "execution_count": 97,
   "metadata": {
    "scrolled": true
   },
   "outputs": [
    {
     "data": {
      "image/png": "[encoded data removed]",
      "text/plain": [
       "<Figure size 576x432 with 1 Axes>"
      ]
     },
     "metadata": {
      "needs_background": "light"
     },
     "output_type": "display_data"
    }
   ],
   "source": [
    "auc_adb = roc_auc_score(ytest, adb_pred_prb)\n",
    "fpr, tpr, threshold = roc_curve(ytest, adb_pred_prb)\n",
    "plot_roc_curve(fpr, tpr, label='AUC = %0.3f' % auc_adb)"
   ]
  },
  {
   "cell_type": "markdown",
   "metadata": {},
   "source": [
    "# Comparison"
   ]
  },
  {
   "cell_type": "code",
   "execution_count": 98,
   "metadata": {},
   "outputs": [],
   "source": [
    "comparison_dict = {\"Algorithm\": [\"Decision Tree\", \"Random Forest\", \"Tuned Random Forest(Grid)\", \"Tuned Random Forest(Random)\", \"Ada Boost\"],\n",
    "                   \"Accuracy\": [accuracy_dt, accuracy_rf, accuracy_rf_t, accuracy_rf_r, accuracy_adb],\n",
    "                   \"Precision\": [precision_dt, precision_rf, precision_rf_t, precision_rf_r, precision_adb],\n",
    "                   \"Recall\": [recall_dt, recall_rf, recall_rf_t, recall_rf_r, recall_adb],\n",
    "                   \"AUC\": [auc_dt, auc_rf, auc_rf_t, auc_rf_r, auc_adb],\n",
    "                   \"F1 Score\": [dt_f1, rf_f1, rf_t_f1, f1_rf_r, f1_adb]\n",
    "                   }"
   ]
  },
  {
   "cell_type": "code",
   "execution_count": 102,
   "metadata": {},
   "outputs": [
    {
     "data": {
      "text/plain": [
       "{'Algorithm': ['Decision Tree',\n",
       "  'Random Forest',\n",
       "  'Tuned Random Forest(Grid)',\n",
       "  'Tuned Random Forest(Random)',\n",
       "  'Ada Boost'],\n",
       " 'Accuracy': [0.8507462686567164,\n",
       "  0.7947761194029851,\n",
       "  (<function sklearn.metrics._classification.accuracy_score(y_true, y_pred, *, normalize=True, sample_weight=None)>,\n",
       "   array([0, 0, 1, 0, 0, 1, 1, 1, 0, 0, 0, 0, 0, 0, 0, 0, 1, 0, 1, 0, 0, 0,\n",
       "          1, 0, 0, 0, 0, 0, 0, 1, 1, 1, 1, 1, 1, 0, 0, 0, 1, 0, 0, 1, 0, 0,\n",
       "          0, 1, 0, 1, 1, 1, 1, 1, 1, 0, 0, 1, 1, 0, 0, 0, 0, 1, 1, 0, 0, 0,\n",
       "          1, 0, 1, 0, 0, 1, 0, 1, 1, 1, 0, 0, 0, 0, 0, 0, 0, 0, 1, 0, 0, 0,\n",
       "          1, 0, 1, 1, 0, 1, 0, 1, 0, 0, 1, 0, 1, 0, 1, 0, 0, 0, 0, 1, 0, 0,\n",
       "          0, 0, 1, 0, 0, 0, 0, 1, 1, 1, 0, 0, 1, 0, 0, 1, 0, 1, 1, 0, 0, 1,\n",
       "          0, 1, 0, 0, 1, 0, 1, 1, 0, 1, 0, 0, 1, 1, 1, 0, 0, 1, 0, 0, 0, 0,\n",
       "          1, 0, 0, 1, 0, 0, 0, 1, 0, 1, 0, 0, 0, 1, 0, 0, 1, 1, 0, 1, 1, 0,\n",
       "          1, 1, 0, 1, 1, 0, 0, 0, 0, 0, 0, 0, 0, 0, 0, 0, 1, 0, 0, 0, 0, 0,\n",
       "          0, 1, 0, 0, 1, 1, 1, 0, 1, 0, 1, 0, 0, 0, 0, 1, 0, 0, 1, 0, 0, 1,\n",
       "          0, 0, 0, 0, 0, 1, 1, 1, 1, 0, 0, 0, 0, 0, 1, 1, 0, 1, 0, 0, 0, 0,\n",
       "          1, 0, 1, 1, 1, 0, 0, 1, 1, 0, 0, 0, 0, 0, 1, 0, 0, 0, 0, 0, 1, 1,\n",
       "          1, 0, 0, 1], dtype=int64)),\n",
       "  0.8395522388059702,\n",
       "  0.8283582089552238],\n",
       " 'Precision': [0.7857142857142857,\n",
       "  0.7029702970297029,\n",
       "  (<function sklearn.metrics._classification.precision_score(y_true, y_pred, *, labels=None, pos_label=1, average='binary', sample_weight=None, zero_division='warn')>,\n",
       "   array([0, 0, 1, 0, 0, 1, 1, 1, 0, 0, 0, 0, 0, 0, 0, 0, 1, 0, 1, 0, 0, 0,\n",
       "          1, 0, 0, 0, 0, 0, 0, 1, 1, 1, 1, 1, 1, 0, 0, 0, 1, 0, 0, 1, 0, 0,\n",
       "          0, 1, 0, 1, 1, 1, 1, 1, 1, 0, 0, 1, 1, 0, 0, 0, 0, 1, 1, 0, 0, 0,\n",
       "          1, 0, 1, 0, 0, 1, 0, 1, 1, 1, 0, 0, 0, 0, 0, 0, 0, 0, 1, 0, 0, 0,\n",
       "          1, 0, 1, 1, 0, 1, 0, 1, 0, 0, 1, 0, 1, 0, 1, 0, 0, 0, 0, 1, 0, 0,\n",
       "          0, 0, 1, 0, 0, 0, 0, 1, 1, 1, 0, 0, 1, 0, 0, 1, 0, 1, 1, 0, 0, 1,\n",
       "          0, 1, 0, 0, 1, 0, 1, 1, 0, 1, 0, 0, 1, 1, 1, 0, 0, 1, 0, 0, 0, 0,\n",
       "          1, 0, 0, 1, 0, 0, 0, 1, 0, 1, 0, 0, 0, 1, 0, 0, 1, 1, 0, 1, 1, 0,\n",
       "          1, 1, 0, 1, 1, 0, 0, 0, 0, 0, 0, 0, 0, 0, 0, 0, 1, 0, 0, 0, 0, 0,\n",
       "          0, 1, 0, 0, 1, 1, 1, 0, 1, 0, 1, 0, 0, 0, 0, 1, 0, 0, 1, 0, 0, 1,\n",
       "          0, 0, 0, 0, 0, 1, 1, 1, 1, 0, 0, 0, 0, 0, 1, 1, 0, 1, 0, 0, 0, 0,\n",
       "          1, 0, 1, 1, 1, 0, 0, 1, 1, 0, 0, 0, 0, 0, 1, 0, 0, 0, 0, 0, 1, 1,\n",
       "          1, 0, 0, 1], dtype=int64)),\n",
       "  0.7523809523809524,\n",
       "  0.7272727272727273],\n",
       " 'Recall': [0.8020833333333334,\n",
       "  0.7395833333333334,\n",
       "  (<function sklearn.metrics._classification.recall_score(y_true, y_pred, *, labels=None, pos_label=1, average='binary', sample_weight=None, zero_division='warn')>,\n",
       "   array([0, 0, 1, 0, 0, 1, 1, 1, 0, 0, 0, 0, 0, 0, 0, 0, 1, 0, 1, 0, 0, 0,\n",
       "          1, 0, 0, 0, 0, 0, 0, 1, 1, 1, 1, 1, 1, 0, 0, 0, 1, 0, 0, 1, 0, 0,\n",
       "          0, 1, 0, 1, 1, 1, 1, 1, 1, 0, 0, 1, 1, 0, 0, 0, 0, 1, 1, 0, 0, 0,\n",
       "          1, 0, 1, 0, 0, 1, 0, 1, 1, 1, 0, 0, 0, 0, 0, 0, 0, 0, 1, 0, 0, 0,\n",
       "          1, 0, 1, 1, 0, 1, 0, 1, 0, 0, 1, 0, 1, 0, 1, 0, 0, 0, 0, 1, 0, 0,\n",
       "          0, 0, 1, 0, 0, 0, 0, 1, 1, 1, 0, 0, 1, 0, 0, 1, 0, 1, 1, 0, 0, 1,\n",
       "          0, 1, 0, 0, 1, 0, 1, 1, 0, 1, 0, 0, 1, 1, 1, 0, 0, 1, 0, 0, 0, 0,\n",
       "          1, 0, 0, 1, 0, 0, 0, 1, 0, 1, 0, 0, 0, 1, 0, 0, 1, 1, 0, 1, 1, 0,\n",
       "          1, 1, 0, 1, 1, 0, 0, 0, 0, 0, 0, 0, 0, 0, 0, 0, 1, 0, 0, 0, 0, 0,\n",
       "          0, 1, 0, 0, 1, 1, 1, 0, 1, 0, 1, 0, 0, 0, 0, 1, 0, 0, 1, 0, 0, 1,\n",
       "          0, 0, 0, 0, 0, 1, 1, 1, 1, 0, 0, 0, 0, 0, 1, 1, 0, 1, 0, 0, 0, 0,\n",
       "          1, 0, 1, 1, 1, 0, 0, 1, 1, 0, 0, 0, 0, 0, 1, 0, 0, 0, 0, 0, 1, 1,\n",
       "          1, 0, 0, 1], dtype=int64)),\n",
       "  0.8229166666666666,\n",
       "  0.8333333333333334],\n",
       " 'AUC': [0.8853561046511627,\n",
       "  0.8496850775193798,\n",
       "  0.8795421511627907,\n",
       "  0.8793907461240309,\n",
       "  0.8954093992248063],\n",
       " 'F1 Score': [0.7938144329896908,\n",
       "  0.7208121827411168,\n",
       "  (<function sklearn.metrics._classification.f1_score(y_true, y_pred, *, labels=None, pos_label=1, average='binary', sample_weight=None, zero_division='warn')>,\n",
       "   array([0, 0, 1, 0, 0, 1, 1, 1, 0, 0, 0, 0, 0, 0, 0, 0, 1, 0, 1, 0, 0, 0,\n",
       "          1, 0, 0, 0, 0, 0, 0, 1, 1, 1, 1, 1, 1, 0, 0, 0, 1, 0, 0, 1, 0, 0,\n",
       "          0, 1, 0, 1, 1, 1, 1, 1, 1, 0, 0, 1, 1, 0, 0, 0, 0, 1, 1, 0, 0, 0,\n",
       "          1, 0, 1, 0, 0, 1, 0, 1, 1, 1, 0, 0, 0, 0, 0, 0, 0, 0, 1, 0, 0, 0,\n",
       "          1, 0, 1, 1, 0, 1, 0, 1, 0, 0, 1, 0, 1, 0, 1, 0, 0, 0, 0, 1, 0, 0,\n",
       "          0, 0, 1, 0, 0, 0, 0, 1, 1, 1, 0, 0, 1, 0, 0, 1, 0, 1, 1, 0, 0, 1,\n",
       "          0, 1, 0, 0, 1, 0, 1, 1, 0, 1, 0, 0, 1, 1, 1, 0, 0, 1, 0, 0, 0, 0,\n",
       "          1, 0, 0, 1, 0, 0, 0, 1, 0, 1, 0, 0, 0, 1, 0, 0, 1, 1, 0, 1, 1, 0,\n",
       "          1, 1, 0, 1, 1, 0, 0, 0, 0, 0, 0, 0, 0, 0, 0, 0, 1, 0, 0, 0, 0, 0,\n",
       "          0, 1, 0, 0, 1, 1, 1, 0, 1, 0, 1, 0, 0, 0, 0, 1, 0, 0, 1, 0, 0, 1,\n",
       "          0, 0, 0, 0, 0, 1, 1, 1, 1, 0, 0, 0, 0, 0, 1, 1, 0, 1, 0, 0, 0, 0,\n",
       "          1, 0, 1, 1, 1, 0, 0, 1, 1, 0, 0, 0, 0, 0, 1, 0, 0, 0, 0, 0, 1, 1,\n",
       "          1, 0, 0, 1], dtype=int64)),\n",
       "  0.7860696517412935,\n",
       "  0.7766990291262137]}"
      ]
     },
     "execution_count": 102,
     "metadata": {},
     "output_type": "execute_result"
    }
   ],
   "source": [
    "comparison_dict"
   ]
  },
  {
   "cell_type": "code",
   "execution_count": 106,
   "metadata": {},
   "outputs": [
    {
     "data": {
      "text/html": [
       "<div>\n",
       "<style scoped>\n",
       "    .dataframe tbody tr th:only-of-type {\n",
       "        vertical-align: middle;\n",
       "    }\n",
       "\n",
       "    .dataframe tbody tr th {\n",
       "        vertical-align: top;\n",
       "    }\n",
       "\n",
       "    .dataframe thead th {\n",
       "        text-align: right;\n",
       "    }\n",
       "</style>\n",
       "<table border=\"1\" class=\"dataframe\">\n",
       "  <thead>\n",
       "    <tr style=\"text-align: right;\">\n",
       "      <th></th>\n",
       "      <th>Algorithm</th>\n",
       "      <th>Accuracy</th>\n",
       "      <th>Precision</th>\n",
       "      <th>Recall</th>\n",
       "      <th>AUC</th>\n",
       "      <th>F1 Score</th>\n",
       "    </tr>\n",
       "  </thead>\n",
       "  <tbody>\n",
       "    <tr>\n",
       "      <th>0</th>\n",
       "      <td>Decision Tree</td>\n",
       "      <td>0.850746</td>\n",
       "      <td>0.785714</td>\n",
       "      <td>0.802083</td>\n",
       "      <td>0.885356</td>\n",
       "      <td>0.793814</td>\n",
       "    </tr>\n",
       "    <tr>\n",
       "      <th>1</th>\n",
       "      <td>Random Forest</td>\n",
       "      <td>0.794776</td>\n",
       "      <td>0.70297</td>\n",
       "      <td>0.739583</td>\n",
       "      <td>0.849685</td>\n",
       "      <td>0.720812</td>\n",
       "    </tr>\n",
       "    <tr>\n",
       "      <th>2</th>\n",
       "      <td>Tuned Random Forest(Grid)</td>\n",
       "      <td>(&lt;function accuracy_score at 0x0000018255C8EF7...</td>\n",
       "      <td>(&lt;function precision_score at 0x0000018255C9AC...</td>\n",
       "      <td>(&lt;function recall_score at 0x0000018255C9ADC0&gt;...</td>\n",
       "      <td>0.879542</td>\n",
       "      <td>(&lt;function f1_score at 0x0000018255C9A790&gt;, [0...</td>\n",
       "    </tr>\n",
       "    <tr>\n",
       "      <th>3</th>\n",
       "      <td>Tuned Random Forest(Random)</td>\n",
       "      <td>0.839552</td>\n",
       "      <td>0.752381</td>\n",
       "      <td>0.822917</td>\n",
       "      <td>0.879391</td>\n",
       "      <td>0.78607</td>\n",
       "    </tr>\n",
       "    <tr>\n",
       "      <th>4</th>\n",
       "      <td>Ada Boost</td>\n",
       "      <td>0.828358</td>\n",
       "      <td>0.727273</td>\n",
       "      <td>0.833333</td>\n",
       "      <td>0.895409</td>\n",
       "      <td>0.776699</td>\n",
       "    </tr>\n",
       "  </tbody>\n",
       "</table>\n",
       "</div>"
      ],
      "text/plain": [
       "                     Algorithm  \\\n",
       "0                Decision Tree   \n",
       "1                Random Forest   \n",
       "2    Tuned Random Forest(Grid)   \n",
       "3  Tuned Random Forest(Random)   \n",
       "4                    Ada Boost   \n",
       "\n",
       "                                            Accuracy  \\\n",
       "0                                           0.850746   \n",
       "1                                           0.794776   \n",
       "2  (<function accuracy_score at 0x0000018255C8EF7...   \n",
       "3                                           0.839552   \n",
       "4                                           0.828358   \n",
       "\n",
       "                                           Precision  \\\n",
       "0                                           0.785714   \n",
       "1                                            0.70297   \n",
       "2  (<function precision_score at 0x0000018255C9AC...   \n",
       "3                                           0.752381   \n",
       "4                                           0.727273   \n",
       "\n",
       "                                              Recall       AUC  \\\n",
       "0                                           0.802083  0.885356   \n",
       "1                                           0.739583  0.849685   \n",
       "2  (<function recall_score at 0x0000018255C9ADC0>...  0.879542   \n",
       "3                                           0.822917  0.879391   \n",
       "4                                           0.833333  0.895409   \n",
       "\n",
       "                                            F1 Score  \n",
       "0                                           0.793814  \n",
       "1                                           0.720812  \n",
       "2  (<function f1_score at 0x0000018255C9A790>, [0...  \n",
       "3                                            0.78607  \n",
       "4                                           0.776699  "
      ]
     },
     "execution_count": 106,
     "metadata": {},
     "output_type": "execute_result"
    }
   ],
   "source": [
    "comparison = pd.DataFrame(comparison_dict)\n",
    "comparison"
   ]
  },
  {
   "cell_type": "code",
   "execution_count": 116,
   "metadata": {},
   "outputs": [
    {
     "ename": "TypeError",
     "evalue": "sort_values() got an unexpected keyword argument 'descending'",
     "output_type": "error",
     "traceback": [
      "\u001b[1;31m---------------------------------------------------------------------------\u001b[0m",
      "\u001b[1;31mTypeError\u001b[0m                                 Traceback (most recent call last)",
      "\u001b[1;32m<ipython-input-116-3f90fee0d30b>\u001b[0m in \u001b[0;36m<module>\u001b[1;34m\u001b[0m\n\u001b[1;32m----> 1\u001b[1;33m \u001b[0mcomparison\u001b[0m\u001b[1;33m.\u001b[0m\u001b[0msort_values\u001b[0m\u001b[1;33m(\u001b[0m\u001b[1;33m[\u001b[0m\u001b[1;34m'Recall'\u001b[0m\u001b[1;33m,\u001b[0m \u001b[1;34m'Accuracy'\u001b[0m\u001b[1;33m,\u001b[0m \u001b[1;34m'AUC'\u001b[0m\u001b[1;33m]\u001b[0m\u001b[1;33m,\u001b[0m \u001b[0mdescending\u001b[0m\u001b[1;33m=\u001b[0m \u001b[1;32mFalse\u001b[0m\u001b[1;33m)\u001b[0m\u001b[1;33m\u001b[0m\u001b[1;33m\u001b[0m\u001b[0m\n\u001b[0m",
      "\u001b[1;31mTypeError\u001b[0m: sort_values() got an unexpected keyword argument 'descending'"
     ]
    }
   ],
   "source": [
    "comparison.sort_values(['Recall', 'Accuracy', 'AUC'], descending= False)\n"
   ]
  },
  {
   "cell_type": "markdown",
   "metadata": {},
   "source": [
    "# Submission on Kaggle"
   ]
  },
  {
   "cell_type": "markdown",
   "metadata": {},
   "source": [
    "### Task 30: Import test data"
   ]
  },
  {
   "cell_type": "code",
   "execution_count": 131,
   "metadata": {},
   "outputs": [
    {
     "data": {
      "text/html": [
       "<div>\n",
       "<style scoped>\n",
       "    .dataframe tbody tr th:only-of-type {\n",
       "        vertical-align: middle;\n",
       "    }\n",
       "\n",
       "    .dataframe tbody tr th {\n",
       "        vertical-align: top;\n",
       "    }\n",
       "\n",
       "    .dataframe thead th {\n",
       "        text-align: right;\n",
       "    }\n",
       "</style>\n",
       "<table border=\"1\" class=\"dataframe\">\n",
       "  <thead>\n",
       "    <tr style=\"text-align: right;\">\n",
       "      <th></th>\n",
       "      <th>PassengerId</th>\n",
       "      <th>Pclass</th>\n",
       "      <th>Sex</th>\n",
       "      <th>SibSp</th>\n",
       "      <th>Parch</th>\n",
       "      <th>Embarked</th>\n",
       "      <th>Title</th>\n",
       "      <th>GrpSize</th>\n",
       "      <th>FareCat</th>\n",
       "      <th>AgeCat</th>\n",
       "    </tr>\n",
       "  </thead>\n",
       "  <tbody>\n",
       "    <tr>\n",
       "      <th>0</th>\n",
       "      <td>892</td>\n",
       "      <td>3</td>\n",
       "      <td>male</td>\n",
       "      <td>0</td>\n",
       "      <td>0</td>\n",
       "      <td>Q</td>\n",
       "      <td>Mr</td>\n",
       "      <td>solo</td>\n",
       "      <td>0-10</td>\n",
       "      <td>32-48</td>\n",
       "    </tr>\n",
       "    <tr>\n",
       "      <th>1</th>\n",
       "      <td>893</td>\n",
       "      <td>3</td>\n",
       "      <td>female</td>\n",
       "      <td>1</td>\n",
       "      <td>0</td>\n",
       "      <td>S</td>\n",
       "      <td>Mrs</td>\n",
       "      <td>couple</td>\n",
       "      <td>0-10</td>\n",
       "      <td>32-48</td>\n",
       "    </tr>\n",
       "    <tr>\n",
       "      <th>2</th>\n",
       "      <td>894</td>\n",
       "      <td>2</td>\n",
       "      <td>male</td>\n",
       "      <td>0</td>\n",
       "      <td>0</td>\n",
       "      <td>Q</td>\n",
       "      <td>Mr</td>\n",
       "      <td>solo</td>\n",
       "      <td>0-10</td>\n",
       "      <td>48-64</td>\n",
       "    </tr>\n",
       "    <tr>\n",
       "      <th>3</th>\n",
       "      <td>895</td>\n",
       "      <td>3</td>\n",
       "      <td>male</td>\n",
       "      <td>0</td>\n",
       "      <td>0</td>\n",
       "      <td>S</td>\n",
       "      <td>Mr</td>\n",
       "      <td>solo</td>\n",
       "      <td>0-10</td>\n",
       "      <td>16-32</td>\n",
       "    </tr>\n",
       "    <tr>\n",
       "      <th>4</th>\n",
       "      <td>896</td>\n",
       "      <td>3</td>\n",
       "      <td>female</td>\n",
       "      <td>1</td>\n",
       "      <td>1</td>\n",
       "      <td>S</td>\n",
       "      <td>Mrs</td>\n",
       "      <td>group</td>\n",
       "      <td>10-25</td>\n",
       "      <td>16-32</td>\n",
       "    </tr>\n",
       "  </tbody>\n",
       "</table>\n",
       "</div>"
      ],
      "text/plain": [
       "   PassengerId  Pclass     Sex  SibSp  Parch Embarked Title GrpSize FareCat  \\\n",
       "0          892       3    male      0      0        Q    Mr    solo    0-10   \n",
       "1          893       3  female      1      0        S   Mrs  couple    0-10   \n",
       "2          894       2    male      0      0        Q    Mr    solo    0-10   \n",
       "3          895       3    male      0      0        S    Mr    solo    0-10   \n",
       "4          896       3  female      1      1        S   Mrs   group   10-25   \n",
       "\n",
       "  AgeCat  \n",
       "0  32-48  \n",
       "1  32-48  \n",
       "2  48-64  \n",
       "3  16-32  \n",
       "4  16-32  "
      ]
     },
     "execution_count": 131,
     "metadata": {},
     "output_type": "execute_result"
    }
   ],
   "source": [
    "# Write code here\n",
    "test = pd.read_csv('competition_clean.csv')\n",
    "df_test = test.copy()\n",
    "df_test.head()"
   ]
  },
  {
   "cell_type": "markdown",
   "metadata": {},
   "source": [
    "### Task 31: Do One Hot encoding of test data"
   ]
  },
  {
   "cell_type": "code",
   "execution_count": 132,
   "metadata": {},
   "outputs": [
    {
     "data": {
      "text/html": [
       "<div>\n",
       "<style scoped>\n",
       "    .dataframe tbody tr th:only-of-type {\n",
       "        vertical-align: middle;\n",
       "    }\n",
       "\n",
       "    .dataframe tbody tr th {\n",
       "        vertical-align: top;\n",
       "    }\n",
       "\n",
       "    .dataframe thead th {\n",
       "        text-align: right;\n",
       "    }\n",
       "</style>\n",
       "<table border=\"1\" class=\"dataframe\">\n",
       "  <thead>\n",
       "    <tr style=\"text-align: right;\">\n",
       "      <th></th>\n",
       "      <th>PassengerId</th>\n",
       "      <th>SibSp</th>\n",
       "      <th>Parch</th>\n",
       "      <th>Pclass_1</th>\n",
       "      <th>Pclass_2</th>\n",
       "      <th>Pclass_3</th>\n",
       "      <th>Sex_female</th>\n",
       "      <th>Sex_male</th>\n",
       "      <th>Embarked_C</th>\n",
       "      <th>Embarked_Q</th>\n",
       "      <th>...</th>\n",
       "      <th>FareCat_10-25</th>\n",
       "      <th>FareCat_100+</th>\n",
       "      <th>FareCat_25-40</th>\n",
       "      <th>FareCat_40-70</th>\n",
       "      <th>FareCat_70-100</th>\n",
       "      <th>AgeCat_0-16</th>\n",
       "      <th>AgeCat_16-32</th>\n",
       "      <th>AgeCat_32-48</th>\n",
       "      <th>AgeCat_48-64</th>\n",
       "      <th>AgeCat_64+</th>\n",
       "    </tr>\n",
       "  </thead>\n",
       "  <tbody>\n",
       "    <tr>\n",
       "      <th>0</th>\n",
       "      <td>892</td>\n",
       "      <td>0</td>\n",
       "      <td>0</td>\n",
       "      <td>0</td>\n",
       "      <td>0</td>\n",
       "      <td>1</td>\n",
       "      <td>0</td>\n",
       "      <td>1</td>\n",
       "      <td>0</td>\n",
       "      <td>1</td>\n",
       "      <td>...</td>\n",
       "      <td>0</td>\n",
       "      <td>0</td>\n",
       "      <td>0</td>\n",
       "      <td>0</td>\n",
       "      <td>0</td>\n",
       "      <td>0</td>\n",
       "      <td>0</td>\n",
       "      <td>1</td>\n",
       "      <td>0</td>\n",
       "      <td>0</td>\n",
       "    </tr>\n",
       "    <tr>\n",
       "      <th>1</th>\n",
       "      <td>893</td>\n",
       "      <td>1</td>\n",
       "      <td>0</td>\n",
       "      <td>0</td>\n",
       "      <td>0</td>\n",
       "      <td>1</td>\n",
       "      <td>1</td>\n",
       "      <td>0</td>\n",
       "      <td>0</td>\n",
       "      <td>0</td>\n",
       "      <td>...</td>\n",
       "      <td>0</td>\n",
       "      <td>0</td>\n",
       "      <td>0</td>\n",
       "      <td>0</td>\n",
       "      <td>0</td>\n",
       "      <td>0</td>\n",
       "      <td>0</td>\n",
       "      <td>1</td>\n",
       "      <td>0</td>\n",
       "      <td>0</td>\n",
       "    </tr>\n",
       "    <tr>\n",
       "      <th>2</th>\n",
       "      <td>894</td>\n",
       "      <td>0</td>\n",
       "      <td>0</td>\n",
       "      <td>0</td>\n",
       "      <td>1</td>\n",
       "      <td>0</td>\n",
       "      <td>0</td>\n",
       "      <td>1</td>\n",
       "      <td>0</td>\n",
       "      <td>1</td>\n",
       "      <td>...</td>\n",
       "      <td>0</td>\n",
       "      <td>0</td>\n",
       "      <td>0</td>\n",
       "      <td>0</td>\n",
       "      <td>0</td>\n",
       "      <td>0</td>\n",
       "      <td>0</td>\n",
       "      <td>0</td>\n",
       "      <td>1</td>\n",
       "      <td>0</td>\n",
       "    </tr>\n",
       "    <tr>\n",
       "      <th>3</th>\n",
       "      <td>895</td>\n",
       "      <td>0</td>\n",
       "      <td>0</td>\n",
       "      <td>0</td>\n",
       "      <td>0</td>\n",
       "      <td>1</td>\n",
       "      <td>0</td>\n",
       "      <td>1</td>\n",
       "      <td>0</td>\n",
       "      <td>0</td>\n",
       "      <td>...</td>\n",
       "      <td>0</td>\n",
       "      <td>0</td>\n",
       "      <td>0</td>\n",
       "      <td>0</td>\n",
       "      <td>0</td>\n",
       "      <td>0</td>\n",
       "      <td>1</td>\n",
       "      <td>0</td>\n",
       "      <td>0</td>\n",
       "      <td>0</td>\n",
       "    </tr>\n",
       "    <tr>\n",
       "      <th>4</th>\n",
       "      <td>896</td>\n",
       "      <td>1</td>\n",
       "      <td>1</td>\n",
       "      <td>0</td>\n",
       "      <td>0</td>\n",
       "      <td>1</td>\n",
       "      <td>1</td>\n",
       "      <td>0</td>\n",
       "      <td>0</td>\n",
       "      <td>0</td>\n",
       "      <td>...</td>\n",
       "      <td>1</td>\n",
       "      <td>0</td>\n",
       "      <td>0</td>\n",
       "      <td>0</td>\n",
       "      <td>0</td>\n",
       "      <td>0</td>\n",
       "      <td>1</td>\n",
       "      <td>0</td>\n",
       "      <td>0</td>\n",
       "      <td>0</td>\n",
       "    </tr>\n",
       "    <tr>\n",
       "      <th>...</th>\n",
       "      <td>...</td>\n",
       "      <td>...</td>\n",
       "      <td>...</td>\n",
       "      <td>...</td>\n",
       "      <td>...</td>\n",
       "      <td>...</td>\n",
       "      <td>...</td>\n",
       "      <td>...</td>\n",
       "      <td>...</td>\n",
       "      <td>...</td>\n",
       "      <td>...</td>\n",
       "      <td>...</td>\n",
       "      <td>...</td>\n",
       "      <td>...</td>\n",
       "      <td>...</td>\n",
       "      <td>...</td>\n",
       "      <td>...</td>\n",
       "      <td>...</td>\n",
       "      <td>...</td>\n",
       "      <td>...</td>\n",
       "      <td>...</td>\n",
       "    </tr>\n",
       "    <tr>\n",
       "      <th>413</th>\n",
       "      <td>1305</td>\n",
       "      <td>0</td>\n",
       "      <td>0</td>\n",
       "      <td>0</td>\n",
       "      <td>0</td>\n",
       "      <td>1</td>\n",
       "      <td>0</td>\n",
       "      <td>1</td>\n",
       "      <td>0</td>\n",
       "      <td>0</td>\n",
       "      <td>...</td>\n",
       "      <td>0</td>\n",
       "      <td>0</td>\n",
       "      <td>0</td>\n",
       "      <td>0</td>\n",
       "      <td>0</td>\n",
       "      <td>0</td>\n",
       "      <td>1</td>\n",
       "      <td>0</td>\n",
       "      <td>0</td>\n",
       "      <td>0</td>\n",
       "    </tr>\n",
       "    <tr>\n",
       "      <th>414</th>\n",
       "      <td>1306</td>\n",
       "      <td>0</td>\n",
       "      <td>0</td>\n",
       "      <td>1</td>\n",
       "      <td>0</td>\n",
       "      <td>0</td>\n",
       "      <td>1</td>\n",
       "      <td>0</td>\n",
       "      <td>1</td>\n",
       "      <td>0</td>\n",
       "      <td>...</td>\n",
       "      <td>0</td>\n",
       "      <td>1</td>\n",
       "      <td>0</td>\n",
       "      <td>0</td>\n",
       "      <td>0</td>\n",
       "      <td>0</td>\n",
       "      <td>0</td>\n",
       "      <td>1</td>\n",
       "      <td>0</td>\n",
       "      <td>0</td>\n",
       "    </tr>\n",
       "    <tr>\n",
       "      <th>415</th>\n",
       "      <td>1307</td>\n",
       "      <td>0</td>\n",
       "      <td>0</td>\n",
       "      <td>0</td>\n",
       "      <td>0</td>\n",
       "      <td>1</td>\n",
       "      <td>0</td>\n",
       "      <td>1</td>\n",
       "      <td>0</td>\n",
       "      <td>0</td>\n",
       "      <td>...</td>\n",
       "      <td>0</td>\n",
       "      <td>0</td>\n",
       "      <td>0</td>\n",
       "      <td>0</td>\n",
       "      <td>0</td>\n",
       "      <td>0</td>\n",
       "      <td>0</td>\n",
       "      <td>1</td>\n",
       "      <td>0</td>\n",
       "      <td>0</td>\n",
       "    </tr>\n",
       "    <tr>\n",
       "      <th>416</th>\n",
       "      <td>1308</td>\n",
       "      <td>0</td>\n",
       "      <td>0</td>\n",
       "      <td>0</td>\n",
       "      <td>0</td>\n",
       "      <td>1</td>\n",
       "      <td>0</td>\n",
       "      <td>1</td>\n",
       "      <td>0</td>\n",
       "      <td>0</td>\n",
       "      <td>...</td>\n",
       "      <td>0</td>\n",
       "      <td>0</td>\n",
       "      <td>0</td>\n",
       "      <td>0</td>\n",
       "      <td>0</td>\n",
       "      <td>0</td>\n",
       "      <td>1</td>\n",
       "      <td>0</td>\n",
       "      <td>0</td>\n",
       "      <td>0</td>\n",
       "    </tr>\n",
       "    <tr>\n",
       "      <th>417</th>\n",
       "      <td>1309</td>\n",
       "      <td>1</td>\n",
       "      <td>1</td>\n",
       "      <td>0</td>\n",
       "      <td>0</td>\n",
       "      <td>1</td>\n",
       "      <td>0</td>\n",
       "      <td>1</td>\n",
       "      <td>1</td>\n",
       "      <td>0</td>\n",
       "      <td>...</td>\n",
       "      <td>1</td>\n",
       "      <td>0</td>\n",
       "      <td>0</td>\n",
       "      <td>0</td>\n",
       "      <td>0</td>\n",
       "      <td>1</td>\n",
       "      <td>0</td>\n",
       "      <td>0</td>\n",
       "      <td>0</td>\n",
       "      <td>0</td>\n",
       "    </tr>\n",
       "  </tbody>\n",
       "</table>\n",
       "<p>418 rows × 31 columns</p>\n",
       "</div>"
      ],
      "text/plain": [
       "     PassengerId  SibSp  Parch  Pclass_1  Pclass_2  Pclass_3  Sex_female  \\\n",
       "0            892      0      0         0         0         1           0   \n",
       "1            893      1      0         0         0         1           1   \n",
       "2            894      0      0         0         1         0           0   \n",
       "3            895      0      0         0         0         1           0   \n",
       "4            896      1      1         0         0         1           1   \n",
       "..           ...    ...    ...       ...       ...       ...         ...   \n",
       "413         1305      0      0         0         0         1           0   \n",
       "414         1306      0      0         1         0         0           1   \n",
       "415         1307      0      0         0         0         1           0   \n",
       "416         1308      0      0         0         0         1           0   \n",
       "417         1309      1      1         0         0         1           0   \n",
       "\n",
       "     Sex_male  Embarked_C  Embarked_Q  ...  FareCat_10-25  FareCat_100+  \\\n",
       "0           1           0           1  ...              0             0   \n",
       "1           0           0           0  ...              0             0   \n",
       "2           1           0           1  ...              0             0   \n",
       "3           1           0           0  ...              0             0   \n",
       "4           0           0           0  ...              1             0   \n",
       "..        ...         ...         ...  ...            ...           ...   \n",
       "413         1           0           0  ...              0             0   \n",
       "414         0           1           0  ...              0             1   \n",
       "415         1           0           0  ...              0             0   \n",
       "416         1           0           0  ...              0             0   \n",
       "417         1           1           0  ...              1             0   \n",
       "\n",
       "     FareCat_25-40  FareCat_40-70  FareCat_70-100  AgeCat_0-16  AgeCat_16-32  \\\n",
       "0                0              0               0            0             0   \n",
       "1                0              0               0            0             0   \n",
       "2                0              0               0            0             0   \n",
       "3                0              0               0            0             1   \n",
       "4                0              0               0            0             1   \n",
       "..             ...            ...             ...          ...           ...   \n",
       "413              0              0               0            0             1   \n",
       "414              0              0               0            0             0   \n",
       "415              0              0               0            0             0   \n",
       "416              0              0               0            0             1   \n",
       "417              0              0               0            1             0   \n",
       "\n",
       "     AgeCat_32-48  AgeCat_48-64  AgeCat_64+  \n",
       "0               1             0           0  \n",
       "1               1             0           0  \n",
       "2               0             1           0  \n",
       "3               0             0           0  \n",
       "4               0             0           0  \n",
       "..            ...           ...         ...  \n",
       "413             0             0           0  \n",
       "414             1             0           0  \n",
       "415             1             0           0  \n",
       "416             0             0           0  \n",
       "417             0             0           0  \n",
       "\n",
       "[418 rows x 31 columns]"
      ]
     },
     "execution_count": 132,
     "metadata": {},
     "output_type": "execute_result"
    }
   ],
   "source": [
    "# write code here\n",
    "df_OneHot = pd.get_dummies(df_test, columns=['Pclass', 'Sex', 'Embarked','Title','GrpSize','FareCat', 'AgeCat'])\n",
    "df_OneHot.head()\n",
    "df_test = df_OneHot.copy()\n",
    "df_test"
   ]
  },
  {
   "cell_type": "markdown",
   "metadata": {},
   "source": [
    "### Task 32: Separate Passenger ID for submission"
   ]
  },
  {
   "cell_type": "code",
   "execution_count": 133,
   "metadata": {},
   "outputs": [
    {
     "data": {
      "text/html": [
       "<div>\n",
       "<style scoped>\n",
       "    .dataframe tbody tr th:only-of-type {\n",
       "        vertical-align: middle;\n",
       "    }\n",
       "\n",
       "    .dataframe tbody tr th {\n",
       "        vertical-align: top;\n",
       "    }\n",
       "\n",
       "    .dataframe thead th {\n",
       "        text-align: right;\n",
       "    }\n",
       "</style>\n",
       "<table border=\"1\" class=\"dataframe\">\n",
       "  <thead>\n",
       "    <tr style=\"text-align: right;\">\n",
       "      <th></th>\n",
       "      <th>SibSp</th>\n",
       "      <th>Parch</th>\n",
       "      <th>Pclass_1</th>\n",
       "      <th>Pclass_2</th>\n",
       "      <th>Pclass_3</th>\n",
       "      <th>Sex_female</th>\n",
       "      <th>Sex_male</th>\n",
       "      <th>Embarked_C</th>\n",
       "      <th>Embarked_Q</th>\n",
       "      <th>Embarked_S</th>\n",
       "      <th>...</th>\n",
       "      <th>FareCat_10-25</th>\n",
       "      <th>FareCat_100+</th>\n",
       "      <th>FareCat_25-40</th>\n",
       "      <th>FareCat_40-70</th>\n",
       "      <th>FareCat_70-100</th>\n",
       "      <th>AgeCat_0-16</th>\n",
       "      <th>AgeCat_16-32</th>\n",
       "      <th>AgeCat_32-48</th>\n",
       "      <th>AgeCat_48-64</th>\n",
       "      <th>AgeCat_64+</th>\n",
       "    </tr>\n",
       "  </thead>\n",
       "  <tbody>\n",
       "    <tr>\n",
       "      <th>0</th>\n",
       "      <td>0</td>\n",
       "      <td>0</td>\n",
       "      <td>0</td>\n",
       "      <td>0</td>\n",
       "      <td>1</td>\n",
       "      <td>0</td>\n",
       "      <td>1</td>\n",
       "      <td>0</td>\n",
       "      <td>1</td>\n",
       "      <td>0</td>\n",
       "      <td>...</td>\n",
       "      <td>0</td>\n",
       "      <td>0</td>\n",
       "      <td>0</td>\n",
       "      <td>0</td>\n",
       "      <td>0</td>\n",
       "      <td>0</td>\n",
       "      <td>0</td>\n",
       "      <td>1</td>\n",
       "      <td>0</td>\n",
       "      <td>0</td>\n",
       "    </tr>\n",
       "    <tr>\n",
       "      <th>1</th>\n",
       "      <td>1</td>\n",
       "      <td>0</td>\n",
       "      <td>0</td>\n",
       "      <td>0</td>\n",
       "      <td>1</td>\n",
       "      <td>1</td>\n",
       "      <td>0</td>\n",
       "      <td>0</td>\n",
       "      <td>0</td>\n",
       "      <td>1</td>\n",
       "      <td>...</td>\n",
       "      <td>0</td>\n",
       "      <td>0</td>\n",
       "      <td>0</td>\n",
       "      <td>0</td>\n",
       "      <td>0</td>\n",
       "      <td>0</td>\n",
       "      <td>0</td>\n",
       "      <td>1</td>\n",
       "      <td>0</td>\n",
       "      <td>0</td>\n",
       "    </tr>\n",
       "    <tr>\n",
       "      <th>2</th>\n",
       "      <td>0</td>\n",
       "      <td>0</td>\n",
       "      <td>0</td>\n",
       "      <td>1</td>\n",
       "      <td>0</td>\n",
       "      <td>0</td>\n",
       "      <td>1</td>\n",
       "      <td>0</td>\n",
       "      <td>1</td>\n",
       "      <td>0</td>\n",
       "      <td>...</td>\n",
       "      <td>0</td>\n",
       "      <td>0</td>\n",
       "      <td>0</td>\n",
       "      <td>0</td>\n",
       "      <td>0</td>\n",
       "      <td>0</td>\n",
       "      <td>0</td>\n",
       "      <td>0</td>\n",
       "      <td>1</td>\n",
       "      <td>0</td>\n",
       "    </tr>\n",
       "    <tr>\n",
       "      <th>3</th>\n",
       "      <td>0</td>\n",
       "      <td>0</td>\n",
       "      <td>0</td>\n",
       "      <td>0</td>\n",
       "      <td>1</td>\n",
       "      <td>0</td>\n",
       "      <td>1</td>\n",
       "      <td>0</td>\n",
       "      <td>0</td>\n",
       "      <td>1</td>\n",
       "      <td>...</td>\n",
       "      <td>0</td>\n",
       "      <td>0</td>\n",
       "      <td>0</td>\n",
       "      <td>0</td>\n",
       "      <td>0</td>\n",
       "      <td>0</td>\n",
       "      <td>1</td>\n",
       "      <td>0</td>\n",
       "      <td>0</td>\n",
       "      <td>0</td>\n",
       "    </tr>\n",
       "    <tr>\n",
       "      <th>4</th>\n",
       "      <td>1</td>\n",
       "      <td>1</td>\n",
       "      <td>0</td>\n",
       "      <td>0</td>\n",
       "      <td>1</td>\n",
       "      <td>1</td>\n",
       "      <td>0</td>\n",
       "      <td>0</td>\n",
       "      <td>0</td>\n",
       "      <td>1</td>\n",
       "      <td>...</td>\n",
       "      <td>1</td>\n",
       "      <td>0</td>\n",
       "      <td>0</td>\n",
       "      <td>0</td>\n",
       "      <td>0</td>\n",
       "      <td>0</td>\n",
       "      <td>1</td>\n",
       "      <td>0</td>\n",
       "      <td>0</td>\n",
       "      <td>0</td>\n",
       "    </tr>\n",
       "  </tbody>\n",
       "</table>\n",
       "<p>5 rows × 30 columns</p>\n",
       "</div>"
      ],
      "text/plain": [
       "   SibSp  Parch  Pclass_1  Pclass_2  Pclass_3  Sex_female  Sex_male  \\\n",
       "0      0      0         0         0         1           0         1   \n",
       "1      1      0         0         0         1           1         0   \n",
       "2      0      0         0         1         0           0         1   \n",
       "3      0      0         0         0         1           0         1   \n",
       "4      1      1         0         0         1           1         0   \n",
       "\n",
       "   Embarked_C  Embarked_Q  Embarked_S  ...  FareCat_10-25  FareCat_100+  \\\n",
       "0           0           1           0  ...              0             0   \n",
       "1           0           0           1  ...              0             0   \n",
       "2           0           1           0  ...              0             0   \n",
       "3           0           0           1  ...              0             0   \n",
       "4           0           0           1  ...              1             0   \n",
       "\n",
       "   FareCat_25-40  FareCat_40-70  FareCat_70-100  AgeCat_0-16  AgeCat_16-32  \\\n",
       "0              0              0               0            0             0   \n",
       "1              0              0               0            0             0   \n",
       "2              0              0               0            0             0   \n",
       "3              0              0               0            0             1   \n",
       "4              0              0               0            0             1   \n",
       "\n",
       "   AgeCat_32-48  AgeCat_48-64  AgeCat_64+  \n",
       "0             1             0           0  \n",
       "1             1             0           0  \n",
       "2             0             1           0  \n",
       "3             0             0           0  \n",
       "4             0             0           0  \n",
       "\n",
       "[5 rows x 30 columns]"
      ]
     },
     "execution_count": 133,
     "metadata": {},
     "output_type": "execute_result"
    }
   ],
   "source": [
    "# Write code here\n",
    "PassengerID = df_test['PassengerId']\n",
    "df_test.drop('PassengerId', axis=1, inplace=True)\n",
    "df_test.head()"
   ]
  },
  {
   "cell_type": "markdown",
   "metadata": {},
   "source": [
    "### Task 33: Do prediction through final model"
   ]
  },
  {
   "cell_type": "code",
   "execution_count": 135,
   "metadata": {},
   "outputs": [
    {
     "data": {
      "text/plain": [
       "array([0, 1, 0, 0, 1, 0, 1, 0, 1, 0, 0, 0, 1, 0, 0, 1, 1, 1, 0, 0, 1, 1,\n",
       "       0, 1, 1, 0, 1, 1, 1, 1, 1, 0, 1, 0, 0, 0, 0, 0, 0, 0, 0, 1, 1, 1,\n",
       "       1, 1, 1, 0, 1, 1, 0, 0, 0, 0, 0, 1, 1, 0, 1, 0, 1, 1, 0, 1, 0, 1,\n",
       "       1, 0, 0, 0, 0, 0, 0, 0, 0, 0, 1, 1, 1, 1, 0, 1, 1, 0, 1, 1, 1, 1,\n",
       "       1, 0, 0, 1, 0, 1, 1, 0, 1, 1, 0, 0, 0, 0, 1, 1, 1, 0, 1, 1, 1, 0,\n",
       "       0, 1, 0, 1, 0, 1, 0, 1, 0, 1, 0, 0, 0, 0, 1, 0, 0, 0, 0, 0, 0, 0,\n",
       "       1, 1, 1, 0, 0, 1, 1, 1, 1, 1, 0, 0, 0, 0, 0, 1, 0, 0, 0, 1, 0, 0,\n",
       "       0, 0, 0, 0, 1, 0, 0, 1, 1, 0, 0, 0, 0, 0, 0, 0, 1, 0, 0, 1, 1, 0,\n",
       "       0, 0, 0, 1, 0, 1, 1, 1, 1, 1, 1, 1, 0, 0, 1, 0, 1, 0, 1, 1, 0, 0,\n",
       "       0, 1, 1, 1, 1, 1, 1, 1, 0, 1, 0, 1, 0, 1, 0, 0, 0, 0, 0, 0, 0, 0,\n",
       "       0, 1, 1, 0, 1, 0, 0, 1, 1, 1, 1, 0, 1, 1, 1, 1, 1, 0, 1, 1, 0, 1,\n",
       "       0, 0, 0, 0, 0, 0, 1, 0, 1, 0, 1, 0, 1, 0, 1, 1, 0, 1, 0, 0, 0, 0,\n",
       "       1, 1, 0, 0, 0, 0, 0, 0, 1, 1, 1, 1, 0, 0, 1, 1, 0, 1, 1, 0, 0, 0,\n",
       "       0, 0, 1, 0, 0, 0, 0, 0, 0, 0, 1, 0, 0, 1, 0, 1, 0, 0, 0, 1, 0, 1,\n",
       "       1, 1, 0, 0, 0, 0, 0, 1, 0, 0, 1, 0, 0, 1, 1, 0, 0, 0, 0, 1, 1, 1,\n",
       "       0, 0, 1, 0, 0, 0, 1, 1, 1, 0, 0, 0, 0, 0, 0, 0, 1, 0, 1, 0, 0, 1,\n",
       "       0, 1, 0, 1, 0, 0, 1, 0, 0, 1, 1, 0, 1, 0, 1, 1, 0, 0, 1, 0, 0, 1,\n",
       "       1, 0, 1, 0, 1, 1, 1, 0, 0, 0, 0, 1, 0, 0, 0, 0, 1, 1, 0, 0, 0, 0,\n",
       "       0, 1, 1, 0, 0, 1, 0, 0, 0, 1, 1, 0, 0, 1, 1, 1, 1, 0, 1, 0, 0, 1],\n",
       "      dtype=int64)"
      ]
     },
     "execution_count": 135,
     "metadata": {},
     "output_type": "execute_result"
    }
   ],
   "source": [
    "# write code here\n",
    "pred_final = clf_adb.predict(df_test)\n",
    "pred_final"
   ]
  },
  {
   "cell_type": "markdown",
   "metadata": {},
   "source": [
    "#### Creating Data Frame for submission"
   ]
  },
  {
   "cell_type": "code",
   "execution_count": 136,
   "metadata": {},
   "outputs": [],
   "source": [
    "submission = pd.DataFrame({'PassengerId': PassengerID, 'Survived': pred_final})"
   ]
  },
  {
   "cell_type": "code",
   "execution_count": 137,
   "metadata": {},
   "outputs": [
    {
     "data": {
      "text/html": [
       "<div>\n",
       "<style scoped>\n",
       "    .dataframe tbody tr th:only-of-type {\n",
       "        vertical-align: middle;\n",
       "    }\n",
       "\n",
       "    .dataframe tbody tr th {\n",
       "        vertical-align: top;\n",
       "    }\n",
       "\n",
       "    .dataframe thead th {\n",
       "        text-align: right;\n",
       "    }\n",
       "</style>\n",
       "<table border=\"1\" class=\"dataframe\">\n",
       "  <thead>\n",
       "    <tr style=\"text-align: right;\">\n",
       "      <th></th>\n",
       "      <th>PassengerId</th>\n",
       "      <th>Survived</th>\n",
       "    </tr>\n",
       "  </thead>\n",
       "  <tbody>\n",
       "    <tr>\n",
       "      <th>0</th>\n",
       "      <td>892</td>\n",
       "      <td>0</td>\n",
       "    </tr>\n",
       "    <tr>\n",
       "      <th>1</th>\n",
       "      <td>893</td>\n",
       "      <td>1</td>\n",
       "    </tr>\n",
       "    <tr>\n",
       "      <th>2</th>\n",
       "      <td>894</td>\n",
       "      <td>0</td>\n",
       "    </tr>\n",
       "    <tr>\n",
       "      <th>3</th>\n",
       "      <td>895</td>\n",
       "      <td>0</td>\n",
       "    </tr>\n",
       "    <tr>\n",
       "      <th>4</th>\n",
       "      <td>896</td>\n",
       "      <td>1</td>\n",
       "    </tr>\n",
       "  </tbody>\n",
       "</table>\n",
       "</div>"
      ],
      "text/plain": [
       "   PassengerId  Survived\n",
       "0          892         0\n",
       "1          893         1\n",
       "2          894         0\n",
       "3          895         0\n",
       "4          896         1"
      ]
     },
     "execution_count": 137,
     "metadata": {},
     "output_type": "execute_result"
    }
   ],
   "source": [
    "submission.head()"
   ]
  },
  {
   "cell_type": "markdown",
   "metadata": {},
   "source": [
    "### Task 34: Export the dataset into csv file"
   ]
  },
  {
   "cell_type": "code",
   "execution_count": 138,
   "metadata": {},
   "outputs": [],
   "source": [
    "# Write code here\n",
    "submission.to_csv('my_submission Mv2.0.csv', index=False)"
   ]
  },
  {
   "cell_type": "code",
   "execution_count": null,
   "metadata": {},
   "outputs": [],
   "source": []
  }
 ],
 "metadata": {
  "kernelspec": {
   "display_name": "Python 3",
   "language": "python",
   "name": "python3"
  },
  "language_info": {
   "codemirror_mode": {
    "name": "ipython",
    "version": 3
   },
   "file_extension": ".py",
   "mimetype": "text/x-python",
   "name": "python",
   "nbconvert_exporter": "python",
   "pygments_lexer": "ipython3",
   "version": "3.8.5"
  },
  "toc": {
   "base_numbering": 1,
   "nav_menu": {},
   "number_sections": false,
   "sideBar": true,
   "skip_h1_title": false,
   "title_cell": "Table of Contents",
   "title_sidebar": "Contents",
   "toc_cell": false,
   "toc_position": {},
   "toc_section_display": true,
   "toc_window_display": false
  },
  "varInspector": {
   "cols": {
    "lenName": 16,
    "lenType": 16,
    "lenVar": 40
   },
   "kernels_config": {
    "python": {
     "delete_cmd_postfix": "",
     "delete_cmd_prefix": "del ",
     "library": "var_list.py",
     "varRefreshCmd": "print(var_dic_list())"
    },
    "r": {
     "delete_cmd_postfix": ") ",
     "delete_cmd_prefix": "rm(",
     "library": "var_list.r",
     "varRefreshCmd": "cat(var_dic_list()) "
    }
   },
   "types_to_exclude": [
    "module",
    "function",
    "builtin_function_or_method",
    "instance",
    "_Feature"
   ],
   "window_display": false
  }
 },
 "nbformat": 4,
 "nbformat_minor": 2
}
